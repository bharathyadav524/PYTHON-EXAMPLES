{
  "nbformat": 4,
  "nbformat_minor": 0,
  "metadata": {
    "colab": {
      "provenance": [],
      "authorship_tag": "ABX9TyNLX0KZscD0oVVLbhPiP3Jm",
      "include_colab_link": true
    },
    "kernelspec": {
      "name": "python3",
      "display_name": "Python 3"
    },
    "language_info": {
      "name": "python"
    }
  },
  "cells": [
    {
      "cell_type": "markdown",
      "metadata": {
        "id": "view-in-github",
        "colab_type": "text"
      },
      "source": [
        "<a href=\"https://colab.research.google.com/github/bharathyadav524/PYTHON-EXAMPLES/blob/main/Python_Basics.ipynb\" target=\"_parent\"><img src=\"https://colab.research.google.com/assets/colab-badge.svg\" alt=\"Open In Colab\"/></a>"
      ]
    },
    {
      "cell_type": "markdown",
      "source": [
        "Variables"
      ],
      "metadata": {
        "id": "USsWDEyBkgas"
      }
    },
    {
      "cell_type": "code",
      "source": [
        "my_int_var = 10\n",
        "my_str_var = \"BHARATH KUMAR YADAV\"\n",
        "my_float_var = 34.5\n",
        "my_bool_var = True\n",
        "print(my_int_var)\n",
        "print(my_str_var)\n",
        "print(my_float_var)\n",
        "print(my_bool_var)\n",
        "\n"
      ],
      "metadata": {
        "colab": {
          "base_uri": "https://localhost:8080/"
        },
        "id": "UdCLzHPikh-L",
        "outputId": "8b0f72a1-f64c-4c51-ecab-8dc665dde65e"
      },
      "execution_count": 2,
      "outputs": [
        {
          "output_type": "stream",
          "name": "stdout",
          "text": [
            "10\n",
            "BHARATH KUMAR YADAV\n",
            "34.5\n",
            "True\n"
          ]
        }
      ]
    },
    {
      "cell_type": "code",
      "source": [
        "print(\"Bharath\" , end = \" \")\n",
        "print(\"Kumar\")"
      ],
      "metadata": {
        "colab": {
          "base_uri": "https://localhost:8080/"
        },
        "id": "0o-fqKCsm5Sj",
        "outputId": "ea58a265-3984-4f39-8a5e-1bb8cb9ee615"
      },
      "execution_count": 9,
      "outputs": [
        {
          "output_type": "stream",
          "name": "stdout",
          "text": [
            "Bharath Kumar\n"
          ]
        }
      ]
    },
    {
      "cell_type": "code",
      "source": [
        "print(\"Bharath\",\"Kumar\", sep= \" \",end=\" \")\n",
        "print(\"Yadav\")"
      ],
      "metadata": {
        "colab": {
          "base_uri": "https://localhost:8080/"
        },
        "id": "z-a8xcFyn97G",
        "outputId": "ac1a2904-64ae-4182-f0af-418e438c94ba"
      },
      "execution_count": 10,
      "outputs": [
        {
          "output_type": "stream",
          "name": "stdout",
          "text": [
            "Bharath Kumar Yadav\n"
          ]
        }
      ]
    },
    {
      "cell_type": "code",
      "source": [
        "print('03','02','2024',sep= \"-\",end=\" \")"
      ],
      "metadata": {
        "colab": {
          "base_uri": "https://localhost:8080/"
        },
        "id": "QmBxpF30o2yI",
        "outputId": "5c2e69a6-f84e-415e-e1cf-9f02181d4a50"
      },
      "execution_count": 12,
      "outputs": [
        {
          "output_type": "stream",
          "name": "stdout",
          "text": [
            "03-02-2024 "
          ]
        }
      ]
    },
    {
      "cell_type": "code",
      "source": [
        "print('Red','Green','Blue', sep=',', end='')"
      ],
      "metadata": {
        "colab": {
          "base_uri": "https://localhost:8080/"
        },
        "id": "dD9UN5hJpHXy",
        "outputId": "7cc25ebc-41ed-42a6-ae8a-5076830594f9"
      },
      "execution_count": 13,
      "outputs": [
        {
          "output_type": "stream",
          "name": "stdout",
          "text": [
            "Red,Green,Blue"
          ]
        }
      ]
    },
    {
      "cell_type": "code",
      "source": [
        "print(\"Geeks : %2d, Portal : %5.2f\" % (1, 05.333))"
      ],
      "metadata": {
        "colab": {
          "base_uri": "https://localhost:8080/"
        },
        "id": "iMGkUazEpP3B",
        "outputId": "4b558ae3-6311-4550-9fa2-2a512b6ed2e5"
      },
      "execution_count": 14,
      "outputs": [
        {
          "output_type": "stream",
          "name": "stdout",
          "text": [
            "Geeks :  1, Portal :  5.33\n"
          ]
        }
      ]
    },
    {
      "cell_type": "code",
      "source": [
        "print(\"\\\"Bharath\\\"\")"
      ],
      "metadata": {
        "colab": {
          "base_uri": "https://localhost:8080/"
        },
        "id": "lni2jBq3qdXM",
        "outputId": "08363036-6f6a-47f5-abd3-f3c3be38a29d"
      },
      "execution_count": 16,
      "outputs": [
        {
          "output_type": "stream",
          "name": "stdout",
          "text": [
            "\"bharath\"\n"
          ]
        }
      ]
    },
    {
      "cell_type": "code",
      "source": [
        "print('I love {}'.format(\"Bharat\"))\n",
        "\n",
        "print(\"{0} and {1}\".format(\"Bharath\",\"Yadav\"))\n",
        "\n",
        "print(\"{1} and {0}\".format(\"Bharath\",\"Yadav\"))\n"
      ],
      "metadata": {
        "colab": {
          "base_uri": "https://localhost:8080/"
        },
        "id": "BovvVnB0q3C4",
        "outputId": "526f1fca-a0b0-459d-caa9-67eded887a63"
      },
      "execution_count": 19,
      "outputs": [
        {
          "output_type": "stream",
          "name": "stdout",
          "text": [
            "I love Bharat\n",
            "Bharath and Yadav\n",
            "Yadav and Bharath\n"
          ]
        }
      ]
    },
    {
      "cell_type": "code",
      "source": [
        "9/2"
      ],
      "metadata": {
        "colab": {
          "base_uri": "https://localhost:8080/"
        },
        "id": "8VYmd2FerbXh",
        "outputId": "6de3a320-5e42-430e-adb9-47c771a8e7cf"
      },
      "execution_count": 21,
      "outputs": [
        {
          "output_type": "execute_result",
          "data": {
            "text/plain": [
              "4.5"
            ]
          },
          "metadata": {},
          "execution_count": 21
        }
      ]
    }
  ]
}