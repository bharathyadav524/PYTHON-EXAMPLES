{
  "nbformat": 4,
  "nbformat_minor": 0,
  "metadata": {
    "colab": {
      "provenance": [],
      "authorship_tag": "ABX9TyPPgeadkcsYutXjHD07A7WD",
      "include_colab_link": true
    },
    "kernelspec": {
      "name": "python3",
      "display_name": "Python 3"
    },
    "language_info": {
      "name": "python"
    }
  },
  "cells": [
    {
      "cell_type": "markdown",
      "metadata": {
        "id": "view-in-github",
        "colab_type": "text"
      },
      "source": [
        "<a href=\"https://colab.research.google.com/github/bharathyadav524/PYTHON-EXAMPLES/blob/main/BHARATH9392499611.ipynb\" target=\"_parent\"><img src=\"https://colab.research.google.com/assets/colab-badge.svg\" alt=\"Open In Colab\"/></a>"
      ]
    },
    {
      "cell_type": "code",
      "execution_count": 1,
      "metadata": {
        "colab": {
          "base_uri": "https://localhost:8080/"
        },
        "id": "uKF4AAi0UNBq",
        "outputId": "ae087b97-dcc0-47a7-98f0-b70a784c2a2c"
      },
      "outputs": [
        {
          "output_type": "stream",
          "name": "stdout",
          "text": [
            "Bharath kumar\n"
          ]
        }
      ],
      "source": [
        "log = print\n",
        "log(\"Bharath kumar\")"
      ]
    },
    {
      "cell_type": "markdown",
      "source": [
        "POWER OF TWO NUMBERS"
      ],
      "metadata": {
        "id": "v9_V9jwECgJH"
      }
    },
    {
      "cell_type": "code",
      "source": [
        "import math\n",
        "#USING OPERATOR\n",
        "base =2\n",
        "exponent=3\n",
        "power=base**exponent\n",
        "print(power)\n",
        "#using pow() function\n",
        "base=2\n",
        "exponent=3\n",
        "power=math.pow(base,exponent)\n",
        "print(power)\n",
        "#using loop\n",
        "base=2\n",
        "exponent=3\n",
        "power=1\n",
        "for _ in range(exponent):\n",
        "  power *= base\n",
        "print(power)\n",
        "#using pow()\n",
        "base=2\n",
        "exponent=3\n",
        "power=pow(base,exponent)\n",
        "print(power)\n"
      ],
      "metadata": {
        "colab": {
          "base_uri": "https://localhost:8080/"
        },
        "id": "i6IIYL22Cn7Z",
        "outputId": "362ca43d-d69c-4e2e-f4cc-254bdca1de11"
      },
      "execution_count": 5,
      "outputs": [
        {
          "output_type": "stream",
          "name": "stdout",
          "text": [
            "8\n",
            "8.0\n",
            "8\n",
            "8\n"
          ]
        }
      ]
    },
    {
      "cell_type": "markdown",
      "source": [
        "TWO SUM PROBLEM\n"
      ],
      "metadata": {
        "id": "VUQkpe55Duex"
      }
    },
    {
      "cell_type": "code",
      "source": [
        "class Solution:\n",
        "  def twosum(self,nums,target):\n",
        "    for i in range(len(nums)):\n",
        "      for j in range(i+1,len(nums)):\n",
        "        if nums[i]+nums[j]==target:\n",
        "          return[i,j]\n",
        "    return[]\n",
        "s=Solution()\n",
        "nums=[2,7,11,15]\n",
        "target=17\n",
        "s.twosum(nums,target)"
      ],
      "metadata": {
        "colab": {
          "base_uri": "https://localhost:8080/"
        },
        "id": "iubFy3kLD4rE",
        "outputId": "dcafe2b9-21c1-4439-b594-5ad8ccf0d030"
      },
      "execution_count": 10,
      "outputs": [
        {
          "output_type": "execute_result",
          "data": {
            "text/plain": [
              "[0, 3]"
            ]
          },
          "metadata": {},
          "execution_count": 10
        }
      ]
    },
    {
      "cell_type": "markdown",
      "source": [
        "SUM OF 100 EVEN NUMBERS"
      ],
      "metadata": {
        "id": "pS97nkeWFfHX"
      }
    },
    {
      "cell_type": "code",
      "source": [
        "n=int(input(\"enter a number\"))\n",
        "sum=0\n",
        "for i in range(1,n+1):\n",
        "  if i%2==0:\n",
        "    sum +=i\n",
        "print(sum)\n",
        "\n",
        "\n"
      ],
      "metadata": {
        "colab": {
          "base_uri": "https://localhost:8080/"
        },
        "id": "ntQGCEgiFjRI",
        "outputId": "6561f176-1c61-4747-aefc-91d5c7543feb"
      },
      "execution_count": 14,
      "outputs": [
        {
          "output_type": "stream",
          "name": "stdout",
          "text": [
            "enter a number100\n",
            "2550\n"
          ]
        }
      ]
    },
    {
      "cell_type": "markdown",
      "source": [
        "SUM OF 100 ODD NUMBERS"
      ],
      "metadata": {
        "id": "GbK_ausqGgdb"
      }
    },
    {
      "cell_type": "code",
      "source": [
        "n=int(input(\"enter a number\"))\n",
        "sum=0\n",
        "for i in range(1,n+1):\n",
        "  if i%2==1:\n",
        "    sum +=i\n",
        "print(sum)"
      ],
      "metadata": {
        "colab": {
          "base_uri": "https://localhost:8080/"
        },
        "id": "AbMi-iBbGjl8",
        "outputId": "16e6c183-5407-43b0-da3d-74200c8aaf83"
      },
      "execution_count": 15,
      "outputs": [
        {
          "output_type": "stream",
          "name": "stdout",
          "text": [
            "enter a number100\n",
            "2500\n"
          ]
        }
      ]
    },
    {
      "cell_type": "markdown",
      "source": [
        "PALINDROME"
      ],
      "metadata": {
        "id": "ch3q9ch2HVUe"
      }
    },
    {
      "cell_type": "code",
      "source": [
        "#FOR STRING\n",
        "class Solution:\n",
        "  def is_palindrome(self,p):\n",
        "    str_p=str(p)\n",
        "    if str_p==str_p[::-1]:\n",
        "      print(\"Palindrome\")\n",
        "    else:\n",
        "      print(\"Not palindrome\")\n",
        "s=Solution()\n",
        "p=input(\"Enter a String : \")\n",
        "s.is_palindrome(p)\n",
        "\n",
        "\n",
        "\n",
        ""
      ],
      "metadata": {
        "colab": {
          "base_uri": "https://localhost:8080/"
        },
        "id": "5qhbV6GOHYJb",
        "outputId": "367500a3-033e-468c-af3c-d15b727b931a"
      },
      "execution_count": 24,
      "outputs": [
        {
          "output_type": "stream",
          "name": "stdout",
          "text": [
            "Enter a String : 121\n",
            "Palindrome\n"
          ]
        }
      ]
    },
    {
      "cell_type": "markdown",
      "source": [
        "PALINDROME NUMBER"
      ],
      "metadata": {
        "id": "AI2D6yWEKPrL"
      }
    },
    {
      "cell_type": "code",
      "source": [
        "def is_palindrome_num(num):\n",
        "  original_num=num\n",
        "  reverse=0\n",
        "  while num>0:\n",
        "    remainder=num%10\n",
        "    reverse=reverse*10+remainder\n",
        "    num=num//10\n",
        "  return original_num==reverse\n",
        "is_palindrome_num(101)"
      ],
      "metadata": {
        "colab": {
          "base_uri": "https://localhost:8080/"
        },
        "id": "QVg2tB7WKYbZ",
        "outputId": "ac6f5984-b9ee-45bd-f883-3082df4cd045"
      },
      "execution_count": 25,
      "outputs": [
        {
          "output_type": "execute_result",
          "data": {
            "text/plain": [
              "True"
            ]
          },
          "metadata": {},
          "execution_count": 25
        }
      ]
    }
  ]
}