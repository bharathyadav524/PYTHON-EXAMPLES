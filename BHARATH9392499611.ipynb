{
  "cells": [
    {
      "cell_type": "markdown",
      "metadata": {
        "id": "view-in-github",
        "colab_type": "text"
      },
      "source": [
        "<a href=\"https://colab.research.google.com/github/bharathyadav524/PYTHON-EXAMPLES/blob/main/BHARATH9392499611.ipynb\" target=\"_parent\"><img src=\"https://colab.research.google.com/assets/colab-badge.svg\" alt=\"Open In Colab\"/></a>"
      ]
    },
    {
      "cell_type": "code",
      "execution_count": null,
      "metadata": {
        "colab": {
          "base_uri": "https://localhost:8080/"
        },
        "id": "uKF4AAi0UNBq",
        "outputId": "ae087b97-dcc0-47a7-98f0-b70a784c2a2c"
      },
      "outputs": [
        {
          "name": "stdout",
          "output_type": "stream",
          "text": [
            "Bharath kumar\n"
          ]
        }
      ],
      "source": [
        "log = print\n",
        "log(\"Bharath kumar\")"
      ]
    },
    {
      "cell_type": "markdown",
      "metadata": {
        "id": "v9_V9jwECgJH"
      },
      "source": [
        "POWER OF TWO NUMBERS"
      ]
    },
    {
      "cell_type": "code",
      "execution_count": null,
      "metadata": {
        "colab": {
          "base_uri": "https://localhost:8080/"
        },
        "id": "i6IIYL22Cn7Z",
        "outputId": "362ca43d-d69c-4e2e-f4cc-254bdca1de11"
      },
      "outputs": [
        {
          "name": "stdout",
          "output_type": "stream",
          "text": [
            "8\n",
            "8.0\n",
            "8\n",
            "8\n"
          ]
        }
      ],
      "source": [
        "import math\n",
        "#USING OPERATOR\n",
        "base =2\n",
        "exponent=3\n",
        "power=base**exponent\n",
        "print(power)\n",
        "#using pow() function\n",
        "base=2\n",
        "exponent=3\n",
        "power=math.pow(base,exponent)\n",
        "print(power)\n",
        "#using loop\n",
        "base=2\n",
        "exponent=3\n",
        "power=1\n",
        "for _ in range(exponent):\n",
        "  power *= base\n",
        "print(power)\n",
        "#using pow()\n",
        "base=2\n",
        "exponent=3\n",
        "power=pow(base,exponent)\n",
        "print(power)\n"
      ]
    },
    {
      "cell_type": "markdown",
      "metadata": {
        "id": "VUQkpe55Duex"
      },
      "source": [
        "TWO SUM PROBLEM\n"
      ]
    },
    {
      "cell_type": "code",
      "execution_count": null,
      "metadata": {
        "colab": {
          "base_uri": "https://localhost:8080/"
        },
        "id": "iubFy3kLD4rE",
        "outputId": "dcafe2b9-21c1-4439-b594-5ad8ccf0d030"
      },
      "outputs": [
        {
          "data": {
            "text/plain": [
              "[0, 3]"
            ]
          },
          "execution_count": 10,
          "metadata": {},
          "output_type": "execute_result"
        }
      ],
      "source": [
        "class Solution:\n",
        "  def twosum(self,nums,target):\n",
        "    for i in range(len(nums)):\n",
        "      for j in range(i+1,len(nums)):\n",
        "        if nums[i]+nums[j]==target:\n",
        "          return[i,j]\n",
        "    return[]\n",
        "s=Solution()\n",
        "nums=[2,7,11,15]\n",
        "target=17\n",
        "s.twosum(nums,target)"
      ]
    },
    {
      "cell_type": "markdown",
      "metadata": {
        "id": "pS97nkeWFfHX"
      },
      "source": [
        "SUM OF 100 EVEN NUMBERS"
      ]
    },
    {
      "cell_type": "code",
      "execution_count": null,
      "metadata": {
        "colab": {
          "base_uri": "https://localhost:8080/"
        },
        "id": "ntQGCEgiFjRI",
        "outputId": "f90145d8-04dc-4aab-bf81-6601b3aa14f6"
      },
      "outputs": [
        {
          "name": "stdout",
          "output_type": "stream",
          "text": [
            "enter a number100\n",
            "2550\n",
            "Enter a number : 100\n",
            "2550\n",
            "Enter a number : 100\n",
            "2550\n"
          ]
        }
      ],
      "source": [
        "#using CONDITIONAL\n",
        "n=int(input(\"enter a number\"))\n",
        "sum=0\n",
        "for i in range(1,n+1):\n",
        "  if i%2==0:\n",
        "    sum +=i\n",
        "print(sum)\n",
        "\n",
        "#using LOOP\n",
        "n=int(input(\"Enter a number : \"))\n",
        "sum=0\n",
        "for  i in range(2,n+1,2):\n",
        "  sum +=i\n",
        "print(sum)\n",
        "\n",
        "\n",
        "#using ARITHMETIC PROGRESSION FORMULA\n",
        "n=int(input(\"Enter a number : \"))\n",
        "num_even  =  n//2\n",
        "sum_even  =  num_even*(num_even+1)\n",
        "print(sum_even)\n",
        "\n",
        "\n"
      ]
    },
    {
      "cell_type": "markdown",
      "metadata": {
        "id": "GbK_ausqGgdb"
      },
      "source": [
        "SUM OF 100 ODD NUMBERS"
      ]
    },
    {
      "cell_type": "code",
      "execution_count": null,
      "metadata": {
        "colab": {
          "base_uri": "https://localhost:8080/"
        },
        "id": "AbMi-iBbGjl8",
        "outputId": "16e6c183-5407-43b0-da3d-74200c8aaf83"
      },
      "outputs": [
        {
          "name": "stdout",
          "output_type": "stream",
          "text": [
            "enter a number100\n",
            "2500\n"
          ]
        }
      ],
      "source": [
        "n=int(input(\"enter a number\"))\n",
        "sum=0\n",
        "for i in range(1,n+1):\n",
        "  if i%2==1:\n",
        "    sum +=i\n",
        "print(sum)"
      ]
    },
    {
      "cell_type": "markdown",
      "metadata": {
        "id": "ch3q9ch2HVUe"
      },
      "source": [
        "PALINDROME"
      ]
    },
    {
      "cell_type": "code",
      "execution_count": null,
      "metadata": {
        "colab": {
          "base_uri": "https://localhost:8080/"
        },
        "id": "5qhbV6GOHYJb",
        "outputId": "367500a3-033e-468c-af3c-d15b727b931a"
      },
      "outputs": [
        {
          "name": "stdout",
          "output_type": "stream",
          "text": [
            "Enter a String : 121\n",
            "Palindrome\n"
          ]
        }
      ],
      "source": [
        "#FOR STRING\n",
        "class Solution:\n",
        "  def is_palindrome(self,p):\n",
        "    str_p=str(p)\n",
        "    if str_p==str_p[::-1]:\n",
        "      print(\"Palindrome\")\n",
        "    else:\n",
        "      print(\"Not palindrome\")\n",
        "s=Solution()\n",
        "p=input(\"Enter a String : \")\n",
        "s.is_palindrome(p)\n",
        "\n",
        "\n",
        "\n"
      ]
    },
    {
      "cell_type": "markdown",
      "metadata": {
        "id": "AI2D6yWEKPrL"
      },
      "source": [
        "PALINDROME NUMBER"
      ]
    },
    {
      "cell_type": "code",
      "execution_count": null,
      "metadata": {
        "colab": {
          "base_uri": "https://localhost:8080/"
        },
        "id": "QVg2tB7WKYbZ",
        "outputId": "ac6f5984-b9ee-45bd-f883-3082df4cd045"
      },
      "outputs": [
        {
          "data": {
            "text/plain": [
              "True"
            ]
          },
          "execution_count": 25,
          "metadata": {},
          "output_type": "execute_result"
        }
      ],
      "source": [
        "def is_palindrome_num(num):\n",
        "  original_num=num\n",
        "  reverse=0\n",
        "  while num>0:\n",
        "    remainder=num%10\n",
        "    reverse=reverse*10+remainder\n",
        "    num=num//10\n",
        "  return original_num==reverse\n",
        "is_palindrome_num(101)"
      ]
    },
    {
      "cell_type": "markdown",
      "metadata": {
        "id": "jcrTUkprWqsV"
      },
      "source": [
        "FACTORIAL\n"
      ]
    },
    {
      "cell_type": "code",
      "execution_count": null,
      "metadata": {
        "colab": {
          "base_uri": "https://localhost:8080/"
        },
        "id": "0fptapW8W1KY",
        "outputId": "a7fd0c2c-046a-4d93-bfcd-15170da27835"
      },
      "outputs": [
        {
          "name": "stdout",
          "output_type": "stream",
          "text": [
            "Enter a number : 5\n",
            "120\n",
            "Enter a Number : 5\n",
            "120\n",
            "Enter a number : 5\n",
            "120\n",
            "Enter a number : 5\n",
            "120\n",
            "Enter a Number : 5\n",
            "120\n"
          ]
        }
      ],
      "source": [
        "#using LOOP\n",
        "def  factor_ial(n):\n",
        "  result=1\n",
        "  for i in range(1,n+1):\n",
        "    result *=i\n",
        "  return result\n",
        "n=int(input(\"Enter a number : \"))\n",
        "print(factor_ial(n))\n",
        "\n",
        "\n",
        "#using RECURSION\n",
        "def factor_ial2(n):\n",
        "  if n==0 or n==1:\n",
        "    return 1\n",
        "  else:\n",
        "    return n*factor_ial2(n-1)\n",
        "n=int(input(\"Enter a Number : \"))\n",
        "print(factor_ial2(n))\n",
        "\n",
        "#using MATH Function\n",
        "import math\n",
        "n=int(input(\"Enter a number : \"))\n",
        "print(math.factorial(n))\n",
        "\n",
        "\n",
        "#using LAMBDA \"REDUCE\"\n",
        "from functools import reduce\n",
        "def factorial4(n):\n",
        "  return reduce(lambda x,y:x*y,range(1,n+1,1))\n",
        "n=int(input(\"Enter a number : \"))\n",
        "print(factorial4(n))\n",
        "\n",
        "#without recursion\n",
        "n=int(input(\"Enter a Number : \"))\n",
        "fact=1\n",
        "for i in range(1,n+1):\n",
        "  fact *=i\n",
        "print(fact)"
      ]
    },
    {
      "cell_type": "markdown",
      "metadata": {
        "id": "LnSeybp7bNKY"
      },
      "source": [
        "REVERSE A NUMBER OR A STRING"
      ]
    },
    {
      "cell_type": "code",
      "execution_count": null,
      "metadata": {
        "colab": {
          "base_uri": "https://localhost:8080/"
        },
        "id": "ozzZao59bXBs",
        "outputId": "5ae78cf3-5bae-4e9d-bf02-d3b29c0cf7a4"
      },
      "outputs": [
        {
          "name": "stdout",
          "output_type": "stream",
          "text": [
            "Enter a number : 123\n"
          ]
        },
        {
          "data": {
            "text/plain": [
              "321"
            ]
          },
          "execution_count": 12,
          "metadata": {},
          "output_type": "execute_result"
        }
      ],
      "source": [
        "#using slicing\n",
        "def reverse_num(n):\n",
        "  str_n=str(n)\n",
        "  str_p=str_n[::-1]\n",
        "  rev_n=int(str_p)     #type casting\n",
        "  return rev_n\n",
        "n=int(input(\"Enter a number : \"))\n",
        "reverse_num(n)\n",
        "\n"
      ]
    },
    {
      "cell_type": "markdown",
      "metadata": {
        "id": "l0pKrI9BcNNu"
      },
      "source": [
        "SWAP TWO NUMBERS"
      ]
    },
    {
      "cell_type": "code",
      "execution_count": null,
      "metadata": {
        "colab": {
          "base_uri": "https://localhost:8080/"
        },
        "id": "oQ3HV-k4cQsR",
        "outputId": "2a017d7c-196a-41c0-c2be-ffb622848a97"
      },
      "outputs": [
        {
          "name": "stdout",
          "output_type": "stream",
          "text": [
            "Enter a number : 3\n",
            "Enter b number : 4\n",
            "A value is 4 and B value is 3\n",
            "Enter a number : 3\n",
            "Enter b number : 2\n",
            "A value is 2 and B value is 3\n",
            "Enter a number : 4\n",
            "Enter b number : 2\n",
            "A value is 2.0 and B value is 4.0\n",
            "Enter a number : 3\n",
            "Enter b number : 1\n",
            "A value is 1 and B value is 3\n"
          ]
        }
      ],
      "source": [
        "#using Python Style\n",
        "a=int(input(\"Enter a number : \"))\n",
        "b=int(input(\"Enter b number : \"))\n",
        "a,b=b,a\n",
        "print(f\"A value is {a} and B value is {b}\")\n",
        "\n",
        "#using Addition and Subtraction\n",
        "a=int(input(\"Enter a number : \"))\n",
        "b=int(input(\"Enter b number : \"))\n",
        "a=a+b\n",
        "b=a-b\n",
        "a=a-b\n",
        "print(f\"A value is {a} and B value is {b}\")\n",
        "\n",
        "#using Multiplication and Division\n",
        "a=int(input(\"Enter a number : \"))\n",
        "b=int(input(\"Enter b number : \"))\n",
        "a=a*b\n",
        "b=a/b\n",
        "a=a/b\n",
        "print(f\"A value is {a} and B value is {b}\")\n",
        "\n",
        "\n",
        "#using Carot ^\n",
        "a=int(input(\"Enter a number : \"))\n",
        "b=int(input(\"Enter b number : \"))\n",
        "a=a^b\n",
        "b=a^b\n",
        "a=a^b\n",
        "print(f\"A value is {a} and B value is {b}\")\n",
        "\n",
        "#using TEMP VARIABLE\n",
        "a=int(input(\"Enter a number : \"))\n",
        "b=int(input(\"Enter b number : \"))\n",
        "temp=a\n",
        "a=b\n",
        "b=temp\n",
        "print(f\"A value is {a} and B value is {b}\")"
      ]
    },
    {
      "cell_type": "markdown",
      "metadata": {
        "id": "xcbqOapJdsa0"
      },
      "source": [
        "AVERAGE\n"
      ]
    },
    {
      "cell_type": "code",
      "execution_count": null,
      "metadata": {
        "colab": {
          "base_uri": "https://localhost:8080/"
        },
        "id": "7VK1VW_pdvgf",
        "outputId": "81311213-9b24-425f-fbd5-754399b918bf"
      },
      "outputs": [
        {
          "name": "stdout",
          "output_type": "stream",
          "text": [
            "Average: 3.0\n"
          ]
        }
      ],
      "source": [
        "numbers = [1, 2, 3, 4, 5]\n",
        "sum=0\n",
        "for i in numbers:\n",
        "  sum +=i\n",
        "average = sum/len(numbers)\n",
        "print(f\"Average: {average}\")"
      ]
    },
    {
      "cell_type": "markdown",
      "metadata": {
        "id": "kSyDmaYtfSJB"
      },
      "source": [
        "TABLES"
      ]
    },
    {
      "cell_type": "code",
      "execution_count": null,
      "metadata": {
        "colab": {
          "base_uri": "https://localhost:8080/"
        },
        "id": "V-kK-i80fWkz",
        "outputId": "65547f95-9cf5-455f-ea0a-830a1fadfa67"
      },
      "outputs": [
        {
          "name": "stdout",
          "output_type": "stream",
          "text": [
            "Enter a number :6\n",
            "6x1=6\n",
            "6x2=12\n",
            "6x3=18\n",
            "6x4=24\n",
            "6x5=30\n",
            "6x6=36\n",
            "6x7=42\n",
            "6x8=48\n",
            "6x9=54\n",
            "6x10=60\n"
          ]
        }
      ],
      "source": [
        "n=int(input(\"Enter a number :\"))\n",
        "for i in range(1,11):\n",
        "  print(f\"{n}x{i}={n*i}\")"
      ]
    },
    {
      "cell_type": "markdown",
      "metadata": {
        "id": "23zepwYmfvO3"
      },
      "source": [
        "PRIME NUMBER"
      ]
    },
    {
      "cell_type": "code",
      "execution_count": null,
      "metadata": {
        "colab": {
          "base_uri": "https://localhost:8080/"
        },
        "id": "98QCM9shf3-J",
        "outputId": "2075cd6c-377b-4e78-8c8a-8992034948f2"
      },
      "outputs": [
        {
          "name": "stdout",
          "output_type": "stream",
          "text": [
            "Enter a number : 23\n",
            "Prime Number \n"
          ]
        }
      ],
      "source": [
        "# A number which is multiple by 1 and itself eg:2,3,5,7,11,13,17,19,23\n",
        "n=int(input(\"Enter a number : \"))\n",
        "count=0\n",
        "if n>1:\n",
        "  for i in range(1,n+1):\n",
        "    if n%i == 0:\n",
        "      count +=1\n",
        "  if count == 2:\n",
        "    print(\"Prime Number \")\n",
        "  else:\n",
        "    print(\"Not a Prime Number\")"
      ]
    },
    {
      "cell_type": "markdown",
      "metadata": {
        "id": "FUbh3jt1h9BQ"
      },
      "source": [
        "FIBONACCI SERIES"
      ]
    },
    {
      "cell_type": "code",
      "execution_count": null,
      "metadata": {
        "colab": {
          "base_uri": "https://localhost:8080/"
        },
        "id": "ePvQnXGAh_uS",
        "outputId": "8e8cef60-884a-4192-b61e-7ada5e862ff0"
      },
      "outputs": [
        {
          "name": "stdout",
          "output_type": "stream",
          "text": [
            "Fibonacci Series (first 10 terms):\n",
            "[0, 1, 1, 2, 3, 5, 8, 13, 21, 34]\n"
          ]
        }
      ],
      "source": [
        "''' it is a series of numbers in which each number\n",
        " (known as a fibonacci number)is the sum of the two preceding ones,usually starting with 0 and 1\n",
        " f(0)=0\n",
        " f(1)=1\n",
        " f(n)=f(n-1)+f(n-2)\n",
        " each number in the fibonacci series is the sum of the previous two numbers'''\n",
        "\n",
        "\n",
        "n1=0\n",
        "n2=1\n",
        "print(n1)\n",
        "print(n2)\n",
        "for i in range(2,10):\n",
        "  sum=n1+n2\n",
        "  print(sum)\n",
        "  n1=n2\n",
        "  n2=sum\n",
        "\n",
        "\n",
        "\n",
        "\n",
        "def generate_fibonacci(n):\n",
        "    fibonacci_series = [0, 1]\n",
        "    for i in range(2, n):\n",
        "        next_number = fibonacci_series[-1] + fibonacci_series[-2]\n",
        "        fibonacci_series.append(next_number)\n",
        "    return fibonacci_series\n",
        "# Specify the number of terms you want in the Fibonacci series\n",
        "number_of_terms = 10\n",
        "# Generate and print the Fibonacci series\n",
        "fibonacci_result = generate_fibonacci(number_of_terms)\n",
        "print(f\"Fibonacci Series (first {number_of_terms} terms):\")\n",
        "print(fibonacci_result)\n"
      ]
    },
    {
      "cell_type": "markdown",
      "metadata": {
        "id": "r5RTIYyokHBJ"
      },
      "source": [
        "GCD OF TWO NUMBERS"
      ]
    },
    {
      "cell_type": "code",
      "execution_count": null,
      "metadata": {
        "colab": {
          "base_uri": "https://localhost:8080/"
        },
        "id": "X2MqXOifkJ9P",
        "outputId": "466c65c4-57c8-452e-f862-9fc3300959db"
      },
      "outputs": [
        {
          "name": "stdout",
          "output_type": "stream",
          "text": [
            "Enter a number : 5\n",
            "Enter b number : 7\n",
            "The GCD of 5 and 7 is: 1\n"
          ]
        }
      ],
      "source": [
        "#Greatest Common Divisor\n",
        "def gcd(a,b):\n",
        "  while b:\n",
        "    a,b=b,a%b\n",
        "  return a\n",
        "a=int(input(\"Enter a number : \"))\n",
        "b=int(input(\"Enter b number : \"))\n",
        "print(gcd(a,b))\n",
        "\n",
        "\n",
        "import math\n",
        "\n",
        "# Given numbers\n",
        "num1 = 5\n",
        "num2 = 7\n",
        "\n",
        "# Calculate GCD using math.gcd\n",
        "gcd_result = math.gcd(num1, num2)\n",
        "\n",
        "print(f\"The GCD of {num1} and {num2} is: {gcd_result}\")\n"
      ]
    },
    {
      "cell_type": "markdown",
      "metadata": {
        "id": "aL7hweolmRu9"
      },
      "source": [
        "LCM  LEAST COMMON MULTIPLE"
      ]
    },
    {
      "cell_type": "code",
      "execution_count": null,
      "metadata": {
        "colab": {
          "base_uri": "https://localhost:8080/"
        },
        "id": "wMDwVunmmWxL",
        "outputId": "c5c2dbc8-f107-46eb-e4d7-841640173b61"
      },
      "outputs": [
        {
          "name": "stdout",
          "output_type": "stream",
          "text": [
            "Enter a number : 5\n",
            "Enter b number : 7\n"
          ]
        },
        {
          "data": {
            "text/plain": [
              "35"
            ]
          },
          "execution_count": 3,
          "metadata": {},
          "output_type": "execute_result"
        }
      ],
      "source": [
        "def gcd(a,b):\n",
        "  while b:\n",
        "    a,b=b,a%b\n",
        "  return a\n",
        "def lcm(a,b):\n",
        "  return (a*b)\n",
        "a=int(input(\"Enter a number : \"))\n",
        "b=int(input(\"Enter b number : \"))\n",
        "lcm(a,b)"
      ]
    },
    {
      "cell_type": "markdown",
      "metadata": {
        "id": "KHa_nH4XHuCa"
      },
      "source": [
        "COUNT OF VOWELS ABD CONSONANTS"
      ]
    },
    {
      "cell_type": "code",
      "execution_count": null,
      "metadata": {
        "colab": {
          "base_uri": "https://localhost:8080/"
        },
        "id": "_kK77V1kHyYf",
        "outputId": "0c4371f5-da23-4aa4-8307-7d6b827522b1"
      },
      "outputs": [
        {
          "name": "stdout",
          "output_type": "stream",
          "text": [
            "Enter String : lakshmi\n",
            "Vowels 2\n",
            "Consonants 5\n"
          ]
        }
      ],
      "source": [
        "def count_v_c(s):\n",
        "  vowels=\"AEIOUaeiou\"\n",
        "  num_vowels=sum(1 for char in s if char in vowels)\n",
        "  num_consonants=len(s)-num_vowels\n",
        "  return num_vowels,num_consonants\n",
        "s=input(\"Enter String : \")\n",
        "vowels,consonants=count_v_c(s)\n",
        "print(\"Vowels\",vowels)\n",
        "print(\"Consonants\",consonants)"
      ]
    },
    {
      "cell_type": "markdown",
      "metadata": {
        "id": "ZkH8qydIJhs2"
      },
      "source": [
        "REVERSE A LIST OF ITEMS"
      ]
    },
    {
      "cell_type": "code",
      "execution_count": null,
      "metadata": {
        "colab": {
          "base_uri": "https://localhost:8080/"
        },
        "id": "1R_2Gl31JopX",
        "outputId": "d806524d-366a-4907-8d03-ba3f6c89fad4"
      },
      "outputs": [
        {
          "name": "stdout",
          "output_type": "stream",
          "text": [
            "[1, 2, 3, 4, 5]\n",
            "[5, 4, 3, 2, 1]\n"
          ]
        }
      ],
      "source": [
        "def reverse_list(n):\n",
        "  start=0\n",
        "  end=len(n)-1\n",
        "  while start <end:\n",
        "    n[start],n[end]=n[end],n[start]\n",
        "    start +=1\n",
        "    end -=1\n",
        "n=[1,2,3,4,5]\n",
        "print(n)\n",
        "reverse_list(n)\n",
        "print(n)"
      ]
    },
    {
      "cell_type": "markdown",
      "metadata": {
        "id": "PIpBhp_Ur2eT"
      },
      "source": [
        "REMOVE DUPLICATES FROM LIST"
      ]
    },
    {
      "cell_type": "code",
      "execution_count": null,
      "metadata": {
        "colab": {
          "base_uri": "https://localhost:8080/"
        },
        "id": "MFhbC81Cr9Ry",
        "outputId": "5c39a191-bf2b-4ebd-fa25-66218195113b"
      },
      "outputs": [
        {
          "name": "stdout",
          "output_type": "stream",
          "text": [
            "[1, 2, 3, 4, 5, 6, 7, 8, 9]\n"
          ]
        }
      ],
      "source": [
        "def remove_duplicates(n):\n",
        "  seen=set()\n",
        "  output_list=[]\n",
        "  for item in n:\n",
        "    if item not in seen:\n",
        "      output_list.append(item)\n",
        "      seen.add(item)\n",
        "  return output_list\n",
        "n=[1,2,2,3,4,5,5,6,7,8,9,9]\n",
        "new_list=remove_duplicates(n)\n",
        "print(new_list)"
      ]
    },
    {
      "cell_type": "markdown",
      "metadata": {
        "id": "taIm_nypvxLx"
      },
      "source": [
        "CAPITALIZE FIRST LETTER IN A SENTENCE"
      ]
    },
    {
      "cell_type": "code",
      "execution_count": null,
      "metadata": {
        "colab": {
          "base_uri": "https://localhost:8080/",
          "height": 53
        },
        "id": "if-0UZOfwczp",
        "outputId": "570563bd-2c27-462c-8508-ed278482c430"
      },
      "outputs": [
        {
          "name": "stdout",
          "output_type": "stream",
          "text": [
            "Enter a Sentence : bharath kumar yadav\n"
          ]
        },
        {
          "data": {
            "application/vnd.google.colaboratory.intrinsic+json": {
              "type": "string"
            },
            "text/plain": [
              "'Bharath Kumar Yadav'"
            ]
          },
          "execution_count": 5,
          "metadata": {},
          "output_type": "execute_result"
        }
      ],
      "source": [
        "def capitalize_words(sentence):\n",
        "  words=sentence.split()\n",
        "  capitalized_words=[word.capitalize() for word in words]\n",
        "  return ' '.join(capitalized_words)\n",
        "sentence=input(\"Enter a Sentence : \")\n",
        "capitalize_words(sentence)"
      ]
    },
    {
      "cell_type": "markdown",
      "metadata": {
        "id": "Hgw2nsjzxM_h"
      },
      "source": [
        "CHARACTER COUNT IN A STRING"
      ]
    },
    {
      "cell_type": "code",
      "execution_count": 17,
      "metadata": {
        "colab": {
          "base_uri": "https://localhost:8080/"
        },
        "id": "AOj7wniXxYvp",
        "outputId": "8391be48-b43d-451f-ae26-494586f549c8"
      },
      "outputs": [
        {
          "output_type": "stream",
          "name": "stdout",
          "text": [
            "h occurs 12 times in the String.\n",
            "Enter a String : bharath\n",
            "b appears 1 times\n",
            "h appears 2 times\n",
            "a appears 2 times\n",
            "r appears 1 times\n",
            "t appears 1 times\n"
          ]
        }
      ],
      "source": [
        "#using Count function its find only particular character only\n",
        "string1=input(\"Enter a String : \")\n",
        "char=input(\"Enter the character to count : \")\n",
        "count=string1.count(char)\n",
        "print(f\"{char} occurs {count} times in the String.\")\n",
        "\n",
        "\n",
        "#it find all the characters count\n",
        "def count_characters(input_string):\n",
        "  char_count={}\n",
        "  for char in input_string:\n",
        "    if char in char_count:\n",
        "      char_count[char] +=1\n",
        "    else:\n",
        "      char_count[char]=1\n",
        "  return char_count\n",
        "input_string=input(\"Enter a String : \")\n",
        "result=count_characters(input_string)\n",
        "for char,count in result.items():\n",
        "  print(f\"{char} appears {count} times\")"
      ]
    },
    {
      "cell_type": "markdown",
      "metadata": {
        "id": "79UCmECFyjSI"
      },
      "source": [
        "LARGEST VALUE IN AN ARRAY OR LIST"
      ]
    },
    {
      "cell_type": "code",
      "execution_count": null,
      "metadata": {
        "colab": {
          "base_uri": "https://localhost:8080/"
        },
        "id": "lnrQfe_ty-Vi",
        "outputId": "6c9c356c-2bdb-4494-8144-95991d400049"
      },
      "outputs": [
        {
          "name": "stdout",
          "output_type": "stream",
          "text": [
            "Enter a Number Which You want : 8\n",
            "The 3rd highest salary is: The list doesn't have at least 8 unique salaries.\n"
          ]
        }
      ],
      "source": [
        "def find_nth_highest_salary(salaries, n):\n",
        "    # Remove duplicates by converting the list to a set\n",
        "    unique_salaries = set(salaries)\n",
        "    # Check if there are at least N unique elements\n",
        "    if len(unique_salaries) < n:\n",
        "        return f\"The list doesn't have at least {n} unique salaries.\"\n",
        "    # Find the Nth highest salary\n",
        "    nth_highest_salary = sorted(unique_salaries, reverse=True)[n - 1]\n",
        "    return nth_highest_salary\n",
        "# Example list of salaries\n",
        "salary_list = [50000, 60000, 55000, 70000, 60000, 80000, 70000]\n",
        "n=int(input(\"Enter a Number Which You want : \"))\n",
        "# Find and print the nth highest salary\n",
        "nth_highest_salary = find_nth_highest_salary(salary_list, n)\n",
        "print(f\"The nth highest salary is: {nth_highest_salary}\")\n",
        "\n",
        "\n"
      ]
    },
    {
      "cell_type": "markdown",
      "metadata": {
        "id": "BP5_XsNa0-yU"
      },
      "source": [
        "SMALLEST VALUE IN AN ARRAY OR LIST"
      ]
    },
    {
      "cell_type": "code",
      "execution_count": 19,
      "metadata": {
        "id": "z4ukMw0V2Miq",
        "colab": {
          "base_uri": "https://localhost:8080/"
        },
        "outputId": "9b648416-3762-4c04-fcfd-f7a7b54d3dbd"
      },
      "outputs": [
        {
          "output_type": "stream",
          "name": "stdout",
          "text": [
            "Enter a Number Which You want : 2\n",
            "The nth smallest value is: 7\n"
          ]
        }
      ],
      "source": [
        "def find_nth_smallest_value(values, n):\n",
        "    # Remove duplicates by converting the list to a set\n",
        "    unique_values = set(values)\n",
        "\n",
        "    # Check if there are at least N unique elements\n",
        "    if len(unique_values) < n:\n",
        "        return f\"The list doesn't have at least {n} unique values.\"\n",
        "\n",
        "    # Find the Nth smallest value\n",
        "    nth_smallest_value = sorted(unique_values)[n - 1]\n",
        "    return nth_smallest_value\n",
        "\n",
        "# Example list of values\n",
        "value_list = [10, 5, 8, 15, 7, 10, 12]\n",
        "n=int(input(\"Enter a Number Which You want : \"))\n",
        "# Find and print the nth smallest value\n",
        "nth_smallest_value = find_nth_smallest_value(value_list, n)\n",
        "print(f\"The nth smallest value is: {nth_smallest_value}\")\n",
        "\n"
      ]
    },
    {
      "cell_type": "markdown",
      "metadata": {
        "id": "KzeP6ifj3Ir5"
      },
      "source": [
        "CHECK A YEAR LEAF YEAR OR NOT"
      ]
    },
    {
      "cell_type": "code",
      "execution_count": 18,
      "metadata": {
        "id": "fqguu-CJ3MIS",
        "colab": {
          "base_uri": "https://localhost:8080/"
        },
        "outputId": "40a086de-8b0b-4840-f28c-0802d2f8be96"
      },
      "outputs": [
        {
          "output_type": "stream",
          "name": "stdout",
          "text": [
            "Enter a year  :2024\n",
            " 2024 is Leaf Year \n"
          ]
        }
      ],
      "source": [
        "year=int(input(\"Enter a year  :\"))\n",
        "if(year %4 == 0 and year %100 != 0) or (year %100 ==0):\n",
        "  print(f\" {year} is Leaf Year \")\n",
        "else:\n",
        "  print(f\"{year} is Not a Leaf Year\")\n"
      ]
    },
    {
      "cell_type": "markdown",
      "source": [
        "ASCII VALUE OF A CHARACTER"
      ],
      "metadata": {
        "id": "SBj4hNh7DKUl"
      }
    },
    {
      "cell_type": "code",
      "source": [
        "char=input(\"Enter a character : \")\n",
        "ascii_value=ord(char)\n",
        "print(f\"ASCII value of {char} : {ascii_value}\")"
      ],
      "metadata": {
        "colab": {
          "base_uri": "https://localhost:8080/"
        },
        "id": "SR8oRoMUz-rL",
        "outputId": "019c0005-80dd-4524-bee5-5fd24acb445a"
      },
      "execution_count": 3,
      "outputs": [
        {
          "output_type": "stream",
          "name": "stdout",
          "text": [
            "Enter a character : A\n",
            "ASCII value of A : 65\n"
          ]
        }
      ]
    },
    {
      "cell_type": "markdown",
      "source": [
        "ARMSTRONG NUMBER"
      ],
      "metadata": {
        "id": "ZEydHd9n0Wuz"
      }
    },
    {
      "cell_type": "code",
      "source": [
        "'''An Armstrong number is a special type of number. To check if a number\n",
        "is an Armstrong number, you follow these steps:\n",
        "\n",
        "Count the Digits:\n",
        "Find out how many digits are there in the number.\n",
        "\n",
        "Raise Each Digit to the Power of the Total Digits:\n",
        "Take each digit in the number and raise it to the power of the total number of digits.\n",
        "\n",
        "Sum the Results:\n",
        "Add up all these results from step 2.\n",
        "\n",
        "Check if the Sum is Equal to the Original Number:\n",
        "If the sum from step 3 is equal to the original number, then the number is an Armstrong number.\n",
        "\n",
        "Here's a simple example with the number 153:\n",
        "Number: 153\n",
        "Digits: 3'''\n",
        "\n",
        "\n",
        "num=int(input(\"Enter a number : \"))\n",
        "num_str=str(num)\n",
        "num_digits=len(num_str)\n",
        "digit_sum=sum(int(digit)**num_digits for digit in num_str)\n",
        "if num == digit_sum:\n",
        "  print(f\"{num} is Armstrong Number\")\n",
        "else:\n",
        "  print(f\"{num} is Not Armstrong Number\")"
      ],
      "metadata": {
        "colab": {
          "base_uri": "https://localhost:8080/"
        },
        "id": "gQgn0z6d08Un",
        "outputId": "00d9e8d0-e8db-4b8e-b8bf-7530e2298ed4"
      },
      "execution_count": 5,
      "outputs": [
        {
          "output_type": "stream",
          "name": "stdout",
          "text": [
            "Enter a number : 153\n",
            "153 is Armstrong Number\n"
          ]
        }
      ]
    },
    {
      "cell_type": "markdown",
      "source": [
        "SUM OF ELEMENTS IN AN ARRAY"
      ],
      "metadata": {
        "id": "CTXDUpVy23R-"
      }
    },
    {
      "cell_type": "code",
      "source": [
        "#using Sum Function\n",
        "arr=[1,2,3,4,5]\n",
        "total = sum(arr)\n",
        "print(total)\n",
        "total=sum(arr,10)\n",
        "print(total)\n",
        "\n",
        "\n",
        "\n",
        "# Example array\n",
        "my_array = [10, 5, 8, 15, 7, 10, 12]\n",
        "# Initialize a variable to store the sum\n",
        "array_sum = 0\n",
        "# Loop through each element and add it to the sum\n",
        "for element in my_array:\n",
        "    array_sum += element\n",
        "# Print the result\n",
        "print(f\"The sum of elements in the array is: {array_sum}\")\n"
      ],
      "metadata": {
        "colab": {
          "base_uri": "https://localhost:8080/"
        },
        "id": "KrKNRZyc3AfB",
        "outputId": "6e3ee876-3c45-4a2c-fa2e-ecf498630eec"
      },
      "execution_count": 8,
      "outputs": [
        {
          "output_type": "stream",
          "name": "stdout",
          "text": [
            "15\n",
            "25\n",
            "The sum of elements in the array is: 67\n"
          ]
        }
      ]
    },
    {
      "cell_type": "markdown",
      "source": [
        "MINIMUM AND MAXIMUM ELEMENT IN AN ARRAY OR LIST"
      ],
      "metadata": {
        "id": "zyyoxfv94D9N"
      }
    },
    {
      "cell_type": "code",
      "source": [
        "#MAXIMUM Element\n",
        "arr=[1,2,3,4,5,10]\n",
        "max=arr[0]\n",
        "for i in range(1,len(arr)):\n",
        "  if arr[i]> max:\n",
        "    max=arr[i]\n",
        "print(max)\n",
        "\n",
        "\n",
        "arr=[1,2,3,4,5,10]\n",
        "min=arr[0]\n",
        "for i in range(1,len(arr)):\n",
        "  if arr[i]<min:\n",
        "    min=arr[i]\n",
        "print(min)"
      ],
      "metadata": {
        "colab": {
          "base_uri": "https://localhost:8080/"
        },
        "id": "O5AaSn194NJM",
        "outputId": "f2f7cc1c-6379-423e-f9be-0aeef2e3f326"
      },
      "execution_count": 12,
      "outputs": [
        {
          "output_type": "stream",
          "name": "stdout",
          "text": [
            "10\n",
            "1\n"
          ]
        }
      ]
    },
    {
      "cell_type": "markdown",
      "source": [
        "LENGTH OF AN ARRAY"
      ],
      "metadata": {
        "id": "ctHei7ou5Dy4"
      }
    },
    {
      "cell_type": "code",
      "source": [
        "#using Length function\n",
        "arr=[1,2,4,3,5,1,3,5,6,7,8]\n",
        "print(len(arr))\n",
        "\n",
        "#using count method\n",
        "arr=[1,2,4,3,5,1,3,5,6,7,8]\n",
        "count=0\n",
        "for i in arr:\n",
        "  count +=1\n",
        "print(count)"
      ],
      "metadata": {
        "colab": {
          "base_uri": "https://localhost:8080/"
        },
        "id": "ya4ogyUf5dx_",
        "outputId": "b7a50426-e320-4eb7-864e-88c24b8aa9d5"
      },
      "execution_count": 15,
      "outputs": [
        {
          "output_type": "stream",
          "name": "stdout",
          "text": [
            "11\n",
            "11\n"
          ]
        }
      ]
    },
    {
      "cell_type": "markdown",
      "source": [
        "SEARCH A ELEMENT IN AN ARRAY"
      ],
      "metadata": {
        "id": "QTBVs-Ed6Qpn"
      }
    },
    {
      "cell_type": "code",
      "source": [
        "arr=[1,2,3,4,5,2,1,13,6,8,90]\n",
        "element=int(input(\"Enter a Element : \"))\n",
        "flag=0\n",
        "for i in arr:\n",
        "  if (i==element):\n",
        "    print(\"Element found\")\n",
        "    falg=1\n",
        "    break\n",
        "\n",
        "\n",
        "  #using   IN operation\n",
        "arr=[1,2,3,4,5,2,1,13,6,8,90]\n",
        "element=int(input(\"Enter a Element : \"))\n",
        "if element in arr:\n",
        "  print(f\"{element}  Element is  Found\")\n",
        "else:\n",
        "  print(f\"{element}  Element is Not Found\")\n",
        "\n",
        ""
      ],
      "metadata": {
        "colab": {
          "base_uri": "https://localhost:8080/"
        },
        "id": "4eIr8dFa6YQ_",
        "outputId": "96bca9a0-7714-4d27-e1ec-1c7e4aaf3924"
      },
      "execution_count": 22,
      "outputs": [
        {
          "output_type": "stream",
          "name": "stdout",
          "text": [
            "Enter a Element : 8\n",
            "element found\n",
            "Enter a Element : 8\n",
            "8  Element is  Found\n"
          ]
        }
      ]
    },
    {
      "cell_type": "markdown",
      "source": [
        "TUPLE PACKING AND UNPACKING"
      ],
      "metadata": {
        "id": "IT1dyoHoRo-y"
      }
    },
    {
      "cell_type": "code",
      "source": [
        "#tuple packing\n",
        "pack=\"Bharath\",\"Kumar\",\"Yadav\"\n",
        "print(pack)\n",
        "print(type(pack))\n",
        "\n",
        "\n",
        "\n",
        "#tuple unpacking\n",
        "pack=\"Bharath\",20,\"Student\"\n",
        "name,age,ocupation=pack\n",
        "print(name)\n",
        "print(age)\n",
        "print(ocupation)"
      ],
      "metadata": {
        "colab": {
          "base_uri": "https://localhost:8080/"
        },
        "id": "6YTxVJgqS1wG",
        "outputId": "fe43bdc0-2a26-4d95-e776-0da59954c8b0"
      },
      "execution_count": 25,
      "outputs": [
        {
          "output_type": "stream",
          "name": "stdout",
          "text": [
            "<class 'tuple'>\n",
            "Bharath\n",
            "20\n",
            "Student\n"
          ]
        }
      ]
    },
    {
      "cell_type": "markdown",
      "source": [
        "COMPARE TWO VALUES ARE POINTING SAME OBJECT"
      ],
      "metadata": {
        "id": "zbLbu72VU2B9"
      }
    },
    {
      "cell_type": "code",
      "source": [
        "a=10\n",
        "b=10\n",
        "print(a is b) #using IS operator\n",
        "result = id(a)==id(b) # using Id For Campare two Values\n",
        "print(result)"
      ],
      "metadata": {
        "colab": {
          "base_uri": "https://localhost:8080/"
        },
        "id": "Yu63vPFNVLQx",
        "outputId": "83861e50-cdaa-4c7e-f52e-648d1df138fe"
      },
      "execution_count": 29,
      "outputs": [
        {
          "output_type": "stream",
          "name": "stdout",
          "text": [
            "True\n",
            "True\n"
          ]
        }
      ]
    },
    {
      "cell_type": "markdown",
      "source": [
        "USE OF ELSE IN FOR LOOP"
      ],
      "metadata": {
        "id": "yOJ12r8zWNhz"
      }
    },
    {
      "cell_type": "code",
      "source": [
        "fruits=[\"apple\",\"mango\",\"grapes\",\"cherry\"]\n",
        "for fruit in fruits:\n",
        "  if fruit == \"orange\":\n",
        "    print(f\"{fruit} is Found\")\n",
        "    break\n",
        "  else:\n",
        "    print(f\"{fruit} is not found\")"
      ],
      "metadata": {
        "colab": {
          "base_uri": "https://localhost:8080/"
        },
        "id": "RT1DRgjIWQUu",
        "outputId": "4878107a-01a8-4a56-8a59-ec9f81c7b3e1"
      },
      "execution_count": 30,
      "outputs": [
        {
          "output_type": "stream",
          "name": "stdout",
          "text": [
            "apple is not found\n",
            "mango is not found\n",
            "grapes is not found\n",
            "cherry is not found\n"
          ]
        }
      ]
    },
    {
      "cell_type": "markdown",
      "source": [
        "USE OF ELSE IN WHILE LOOP"
      ],
      "metadata": {
        "id": "LbkajrA4XDXw"
      }
    },
    {
      "cell_type": "code",
      "source": [
        "count =0\n",
        "while count <5:\n",
        "  print(f\"Count is {count}\")\n",
        "  count +=1\n",
        "else:\n",
        "  print(\"Loop Completed without encountering a break statement\")"
      ],
      "metadata": {
        "colab": {
          "base_uri": "https://localhost:8080/"
        },
        "id": "SIW8PAd0XIE_",
        "outputId": "3ebd9511-0d04-4aee-89df-f208a94369c6"
      },
      "execution_count": 32,
      "outputs": [
        {
          "output_type": "stream",
          "name": "stdout",
          "text": [
            "Count is 0\n",
            "Count is 1\n",
            "Count is 2\n",
            "Count is 3\n",
            "Count is 4\n",
            "Loop Completed without encountering a break statement\n"
          ]
        }
      ]
    },
    {
      "cell_type": "markdown",
      "source": [
        "CHECK PYTHON VERSION"
      ],
      "metadata": {
        "id": "x2Dda4rVZagq"
      }
    },
    {
      "cell_type": "code",
      "source": [
        "import sys\n",
        "python_version=sys.version\n",
        "print(\"Python Version is : \",python_version)"
      ],
      "metadata": {
        "colab": {
          "base_uri": "https://localhost:8080/"
        },
        "id": "P3QgD-xQZofK",
        "outputId": "3960b495-5035-45ec-e449-61ca12066b86"
      },
      "execution_count": 33,
      "outputs": [
        {
          "output_type": "stream",
          "name": "stdout",
          "text": [
            "Python Version is :  3.10.12 (main, Nov 20 2023, 15:14:05) [GCC 11.4.0]\n"
          ]
        }
      ]
    },
    {
      "cell_type": "markdown",
      "source": [
        "REFRENCES POINTING TO A PARTICULAR OBJECT"
      ],
      "metadata": {
        "id": "5QiE-r-raRkZ"
      }
    },
    {
      "cell_type": "code",
      "source": [
        "import sys\n",
        "my_list=[1,2,3,[1,2]]\n",
        "ref_count=sys.getrefcount(my_list)\n",
        "actual_count=ref_count-1\n",
        "print(actual_count)\n",
        "\n",
        "\n",
        "x=\"Bharath Yadav\"\n",
        "y=x\n",
        "print(sys.getrefcount(x))"
      ],
      "metadata": {
        "colab": {
          "base_uri": "https://localhost:8080/"
        },
        "id": "1BRXGXNZaYO6",
        "outputId": "aa8367d4-9ce8-4b66-94a4-06a96c734457"
      },
      "execution_count": 37,
      "outputs": [
        {
          "output_type": "stream",
          "name": "stdout",
          "text": [
            "1\n",
            "4\n"
          ]
        }
      ]
    },
    {
      "cell_type": "markdown",
      "source": [
        "DISPOSE A VARIABLE"
      ],
      "metadata": {
        "id": "2q-CfMREccCp"
      }
    },
    {
      "cell_type": "code",
      "source": [
        "a =10\n",
        "print(a)\n",
        "del a\n",
        "print(a)"
      ],
      "metadata": {
        "colab": {
          "base_uri": "https://localhost:8080/",
          "height": 227
        },
        "id": "RZwRl0Jtch4Y",
        "outputId": "249cbf14-0a9b-4778-92d0-1c7048b6f563"
      },
      "execution_count": 39,
      "outputs": [
        {
          "output_type": "stream",
          "name": "stdout",
          "text": [
            "10\n"
          ]
        },
        {
          "output_type": "error",
          "ename": "NameError",
          "evalue": "name 'a' is not defined",
          "traceback": [
            "\u001b[0;31m---------------------------------------------------------------------------\u001b[0m",
            "\u001b[0;31mNameError\u001b[0m                                 Traceback (most recent call last)",
            "\u001b[0;32m<ipython-input-39-1308597fb290>\u001b[0m in \u001b[0;36m<cell line: 4>\u001b[0;34m()\u001b[0m\n\u001b[1;32m      2\u001b[0m \u001b[0mprint\u001b[0m\u001b[0;34m(\u001b[0m\u001b[0ma\u001b[0m\u001b[0;34m)\u001b[0m\u001b[0;34m\u001b[0m\u001b[0;34m\u001b[0m\u001b[0m\n\u001b[1;32m      3\u001b[0m \u001b[0;32mdel\u001b[0m \u001b[0ma\u001b[0m\u001b[0;34m\u001b[0m\u001b[0;34m\u001b[0m\u001b[0m\n\u001b[0;32m----> 4\u001b[0;31m \u001b[0mprint\u001b[0m\u001b[0;34m(\u001b[0m\u001b[0ma\u001b[0m\u001b[0;34m)\u001b[0m\u001b[0;34m\u001b[0m\u001b[0;34m\u001b[0m\u001b[0m\n\u001b[0m",
            "\u001b[0;31mNameError\u001b[0m: name 'a' is not defined"
          ]
        }
      ]
    },
    {
      "cell_type": "markdown",
      "source": [
        "SEPERATE A LIST OF VALUES INTO A COMMA SEPERATED VALUES"
      ],
      "metadata": {
        "id": "V3-mZxCScq-y"
      }
    },
    {
      "cell_type": "code",
      "source": [
        "my_list=[1,2,3,4,5]\n",
        "comma_seperated_string=','.join(map(str,my_list))\n",
        "print(comma_seperated_string)"
      ],
      "metadata": {
        "colab": {
          "base_uri": "https://localhost:8080/"
        },
        "id": "YTWeO70cd5Qi",
        "outputId": "8d28ec46-acdb-4346-e0d1-420d3794b6f3"
      },
      "execution_count": 40,
      "outputs": [
        {
          "output_type": "stream",
          "name": "stdout",
          "text": [
            "1,2,3,4,5\n"
          ]
        }
      ]
    },
    {
      "cell_type": "markdown",
      "source": [
        "DIFFERENCE BETWEEN APPEND AND EXTEND"
      ],
      "metadata": {
        "id": "RXO2ulNzeN3n"
      }
    },
    {
      "cell_type": "code",
      "source": [
        "#append\n",
        "arr=[10,20,30]\n",
        "arr.append(40)\n",
        "print(arr)\n",
        "arr.append([50,60])\n",
        "print(arr)\n",
        "#extend\n",
        "arr=[10,20,30]\n",
        "print(arr)\n",
        "arr.extend([50,60])\n",
        "print(arr)\n"
      ],
      "metadata": {
        "colab": {
          "base_uri": "https://localhost:8080/"
        },
        "id": "glc3IysGeWoU",
        "outputId": "58269ae4-e08f-4c62-eb74-2769b2306abc"
      },
      "execution_count": 44,
      "outputs": [
        {
          "output_type": "stream",
          "name": "stdout",
          "text": [
            "[10, 20, 30, 40]\n",
            "[10, 20, 30, 40, [50, 60]]\n",
            "[10, 20, 30]\n",
            "[10, 20, 30, 50, 60]\n"
          ]
        }
      ]
    },
    {
      "cell_type": "markdown",
      "source": [
        "MERGE TWO DICTS"
      ],
      "metadata": {
        "id": "_QorAPpNetSU"
      }
    },
    {
      "cell_type": "code",
      "source": [
        "dict1={'a':1,'b':2}\n",
        "dict2={'c':3,'d':4}\n",
        "dict1.update(dict2)\n",
        "print(dict1)\n",
        "\n",
        "#using Exponent\n",
        "\n",
        "dict1={'a':1,'b':2}\n",
        "dict2={'c':3,'d':4}\n",
        "merge={**dict1,**dict2}\n",
        "print(merge)\n",
        "\n",
        "#using   | operator\n",
        "dict1={'a':1,'b':2}\n",
        "dict2={'c':3,'d':4}\n",
        "merge = dict1| dict2\n",
        "print(merge)\n",
        "\n"
      ],
      "metadata": {
        "colab": {
          "base_uri": "https://localhost:8080/"
        },
        "id": "jv3kItzDe_E9",
        "outputId": "9c512a85-081e-4cdf-9216-1c64daa492c7"
      },
      "execution_count": 46,
      "outputs": [
        {
          "output_type": "stream",
          "name": "stdout",
          "text": [
            "{'a': 1, 'b': 2, 'c': 3, 'd': 4}\n"
          ]
        }
      ]
    },
    {
      "cell_type": "markdown",
      "source": [
        "HOW TO GENERATE RANDOM NUMBERS"
      ],
      "metadata": {
        "id": "RncGBRNUfy-X"
      }
    },
    {
      "cell_type": "code",
      "source": [
        "#using random value\n",
        "import random\n",
        "random_number=random.random()\n",
        "print(random_number)\n",
        "\n",
        "#using randint\n",
        "import random\n",
        "random_number=random.randint(1,10)\n",
        "print(random_number)\n",
        "\n",
        "#using shuffle\n",
        "my_list=[1,2,3,5,7]\n",
        "random.shuffle(my_list)\n",
        "print(my_list)\n",
        "\n",
        "#using choice\n",
        "my_list=[1,2,3,5,7]\n",
        "choice=random.choice(my_list)\n",
        "print(choice)\n"
      ],
      "metadata": {
        "colab": {
          "base_uri": "https://localhost:8080/"
        },
        "id": "WJsktCUugNev",
        "outputId": "78f60a39-eb7a-4cb5-866f-3073d87e55f9"
      },
      "execution_count": 54,
      "outputs": [
        {
          "output_type": "stream",
          "name": "stdout",
          "text": [
            "0.8043548311255034\n",
            "1\n",
            "[3, 1, 7, 5, 2]\n",
            "3\n"
          ]
        }
      ]
    },
    {
      "cell_type": "markdown",
      "source": [
        "CURRENT DATE AND TIME"
      ],
      "metadata": {
        "id": "WXd4G_tvhG6q"
      }
    },
    {
      "cell_type": "code",
      "source": [
        "import datetime\n",
        "current_datetime=datetime.datetime.now()\n",
        "print(current_datetimeb )"
      ],
      "metadata": {
        "colab": {
          "base_uri": "https://localhost:8080/"
        },
        "id": "hiMYlrOGhTvq",
        "outputId": "6b457048-d284-483d-edc0-ab2b6fa4d1c1"
      },
      "execution_count": 55,
      "outputs": [
        {
          "output_type": "stream",
          "name": "stdout",
          "text": [
            "2024-01-07 15:23:46.898451\n"
          ]
        }
      ]
    }
  ],
  "metadata": {
    "colab": {
      "provenance": [],
      "authorship_tag": "ABX9TyNKFF218srk1C+Bmgjx2CJ9",
      "include_colab_link": true
    },
    "kernelspec": {
      "display_name": "Python 3",
      "name": "python3"
    },
    "language_info": {
      "name": "python"
    }
  },
  "nbformat": 4,
  "nbformat_minor": 0
}