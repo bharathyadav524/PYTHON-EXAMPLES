{
  "cells": [
    {
      "cell_type": "markdown",
      "metadata": {
        "id": "view-in-github",
        "colab_type": "text"
      },
      "source": [
        "<a href=\"https://colab.research.google.com/github/bharathyadav524/PYTHON-EXAMPLES/blob/main/BHARATH9392499611.ipynb\" target=\"_parent\"><img src=\"https://colab.research.google.com/assets/colab-badge.svg\" alt=\"Open In Colab\"/></a>"
      ]
    },
    {
      "cell_type": "code",
      "execution_count": null,
      "metadata": {
        "colab": {
          "base_uri": "https://localhost:8080/"
        },
        "id": "uKF4AAi0UNBq",
        "outputId": "ae087b97-dcc0-47a7-98f0-b70a784c2a2c"
      },
      "outputs": [
        {
          "name": "stdout",
          "output_type": "stream",
          "text": [
            "Bharath kumar\n"
          ]
        }
      ],
      "source": [
        "log = print\n",
        "log(\"Bharath kumar\")"
      ]
    },
    {
      "cell_type": "markdown",
      "metadata": {
        "id": "v9_V9jwECgJH"
      },
      "source": [
        "POWER OF TWO NUMBERS"
      ]
    },
    {
      "cell_type": "code",
      "execution_count": null,
      "metadata": {
        "colab": {
          "base_uri": "https://localhost:8080/"
        },
        "id": "i6IIYL22Cn7Z",
        "outputId": "362ca43d-d69c-4e2e-f4cc-254bdca1de11"
      },
      "outputs": [
        {
          "name": "stdout",
          "output_type": "stream",
          "text": [
            "8\n",
            "8.0\n",
            "8\n",
            "8\n"
          ]
        }
      ],
      "source": [
        "import math\n",
        "#USING OPERATOR\n",
        "base =2\n",
        "exponent=3\n",
        "power=base**exponent\n",
        "print(power)\n",
        "#using pow() function\n",
        "base=2\n",
        "exponent=3\n",
        "power=math.pow(base,exponent)\n",
        "print(power)\n",
        "#using loop\n",
        "base=2\n",
        "exponent=3\n",
        "power=1\n",
        "for _ in range(exponent):\n",
        "  power *= base\n",
        "print(power)\n",
        "#using pow()\n",
        "base=2\n",
        "exponent=3\n",
        "power=pow(base,exponent)\n",
        "print(power)\n"
      ]
    },
    {
      "cell_type": "markdown",
      "metadata": {
        "id": "VUQkpe55Duex"
      },
      "source": [
        "TWO SUM PROBLEM\n"
      ]
    },
    {
      "cell_type": "code",
      "execution_count": null,
      "metadata": {
        "colab": {
          "base_uri": "https://localhost:8080/"
        },
        "id": "iubFy3kLD4rE",
        "outputId": "dcafe2b9-21c1-4439-b594-5ad8ccf0d030"
      },
      "outputs": [
        {
          "data": {
            "text/plain": [
              "[0, 3]"
            ]
          },
          "execution_count": 10,
          "metadata": {},
          "output_type": "execute_result"
        }
      ],
      "source": [
        "class Solution:\n",
        "  def twosum(self,nums,target):\n",
        "    for i in range(len(nums)):\n",
        "      for j in range(i+1,len(nums)):\n",
        "        if nums[i]+nums[j]==target:\n",
        "          return[i,j]\n",
        "    return[]\n",
        "s=Solution()\n",
        "nums=[2,7,11,15]\n",
        "target=17\n",
        "s.twosum(nums,target)"
      ]
    },
    {
      "cell_type": "markdown",
      "metadata": {
        "id": "pS97nkeWFfHX"
      },
      "source": [
        "SUM OF 100 EVEN NUMBERS"
      ]
    },
    {
      "cell_type": "code",
      "execution_count": null,
      "metadata": {
        "colab": {
          "base_uri": "https://localhost:8080/"
        },
        "id": "ntQGCEgiFjRI",
        "outputId": "f90145d8-04dc-4aab-bf81-6601b3aa14f6"
      },
      "outputs": [
        {
          "name": "stdout",
          "output_type": "stream",
          "text": [
            "enter a number100\n",
            "2550\n",
            "Enter a number : 100\n",
            "2550\n",
            "Enter a number : 100\n",
            "2550\n"
          ]
        }
      ],
      "source": [
        "#using CONDITIONAL\n",
        "n=int(input(\"enter a number\"))\n",
        "sum=0\n",
        "for i in range(1,n+1):\n",
        "  if i%2==0:\n",
        "    sum +=i\n",
        "print(sum)\n",
        "\n",
        "#using LOOP\n",
        "n=int(input(\"Enter a number : \"))\n",
        "sum=0\n",
        "for  i in range(2,n+1,2):\n",
        "  sum +=i\n",
        "print(sum)\n",
        "\n",
        "\n",
        "#using ARITHMETIC PROGRESSION FORMULA\n",
        "n=int(input(\"Enter a number : \"))\n",
        "num_even  =  n//2\n",
        "sum_even  =  num_even*(num_even+1)\n",
        "print(sum_even)\n",
        "\n",
        "\n"
      ]
    },
    {
      "cell_type": "markdown",
      "metadata": {
        "id": "GbK_ausqGgdb"
      },
      "source": [
        "SUM OF 100 ODD NUMBERS"
      ]
    },
    {
      "cell_type": "code",
      "execution_count": null,
      "metadata": {
        "colab": {
          "base_uri": "https://localhost:8080/"
        },
        "id": "AbMi-iBbGjl8",
        "outputId": "16e6c183-5407-43b0-da3d-74200c8aaf83"
      },
      "outputs": [
        {
          "name": "stdout",
          "output_type": "stream",
          "text": [
            "enter a number100\n",
            "2500\n"
          ]
        }
      ],
      "source": [
        "n=int(input(\"enter a number\"))\n",
        "sum=0\n",
        "for i in range(1,n+1):\n",
        "  if i%2==1:\n",
        "    sum +=i\n",
        "print(sum)"
      ]
    },
    {
      "cell_type": "markdown",
      "metadata": {
        "id": "ch3q9ch2HVUe"
      },
      "source": [
        "PALINDROME"
      ]
    },
    {
      "cell_type": "code",
      "execution_count": null,
      "metadata": {
        "colab": {
          "base_uri": "https://localhost:8080/"
        },
        "id": "5qhbV6GOHYJb",
        "outputId": "367500a3-033e-468c-af3c-d15b727b931a"
      },
      "outputs": [
        {
          "name": "stdout",
          "output_type": "stream",
          "text": [
            "Enter a String : 121\n",
            "Palindrome\n"
          ]
        }
      ],
      "source": [
        "#FOR STRING\n",
        "class Solution:\n",
        "  def is_palindrome(self,p):\n",
        "    str_p=str(p)\n",
        "    if str_p==str_p[::-1]:\n",
        "      print(\"Palindrome\")\n",
        "    else:\n",
        "      print(\"Not palindrome\")\n",
        "s=Solution()\n",
        "p=input(\"Enter a String : \")\n",
        "s.is_palindrome(p)\n",
        "\n",
        "\n",
        "\n"
      ]
    },
    {
      "cell_type": "markdown",
      "metadata": {
        "id": "AI2D6yWEKPrL"
      },
      "source": [
        "PALINDROME NUMBER"
      ]
    },
    {
      "cell_type": "code",
      "execution_count": null,
      "metadata": {
        "colab": {
          "base_uri": "https://localhost:8080/"
        },
        "id": "QVg2tB7WKYbZ",
        "outputId": "ac6f5984-b9ee-45bd-f883-3082df4cd045"
      },
      "outputs": [
        {
          "data": {
            "text/plain": [
              "True"
            ]
          },
          "execution_count": 25,
          "metadata": {},
          "output_type": "execute_result"
        }
      ],
      "source": [
        "def is_palindrome_num(num):\n",
        "  original_num=num\n",
        "  reverse=0\n",
        "  while num>0:\n",
        "    remainder=num%10\n",
        "    reverse=reverse*10+remainder\n",
        "    num=num//10\n",
        "  return original_num==reverse\n",
        "is_palindrome_num(101)"
      ]
    },
    {
      "cell_type": "markdown",
      "metadata": {
        "id": "jcrTUkprWqsV"
      },
      "source": [
        "FACTORIAL\n"
      ]
    },
    {
      "cell_type": "code",
      "execution_count": null,
      "metadata": {
        "colab": {
          "base_uri": "https://localhost:8080/"
        },
        "id": "0fptapW8W1KY",
        "outputId": "a7fd0c2c-046a-4d93-bfcd-15170da27835"
      },
      "outputs": [
        {
          "name": "stdout",
          "output_type": "stream",
          "text": [
            "Enter a number : 5\n",
            "120\n",
            "Enter a Number : 5\n",
            "120\n",
            "Enter a number : 5\n",
            "120\n",
            "Enter a number : 5\n",
            "120\n",
            "Enter a Number : 5\n",
            "120\n"
          ]
        }
      ],
      "source": [
        "#using LOOP\n",
        "def  factor_ial(n):\n",
        "  result=1\n",
        "  for i in range(1,n+1):\n",
        "    result *=i\n",
        "  return result\n",
        "n=int(input(\"Enter a number : \"))\n",
        "print(factor_ial(n))\n",
        "\n",
        "\n",
        "#using RECURSION\n",
        "def factor_ial2(n):\n",
        "  if n==0 or n==1:\n",
        "    return 1\n",
        "  else:\n",
        "    return n*factor_ial2(n-1)\n",
        "n=int(input(\"Enter a Number : \"))\n",
        "print(factor_ial2(n))\n",
        "\n",
        "#using MATH Function\n",
        "import math\n",
        "n=int(input(\"Enter a number : \"))\n",
        "print(math.factorial(n))\n",
        "\n",
        "\n",
        "#using LAMBDA \"REDUCE\"\n",
        "from functools import reduce\n",
        "def factorial4(n):\n",
        "  return reduce(lambda x,y:x*y,range(1,n+1,1))\n",
        "n=int(input(\"Enter a number : \"))\n",
        "print(factorial4(n))\n",
        "\n",
        "#without recursion\n",
        "n=int(input(\"Enter a Number : \"))\n",
        "fact=1\n",
        "for i in range(1,n+1):\n",
        "  fact *=i\n",
        "print(fact)"
      ]
    },
    {
      "cell_type": "markdown",
      "metadata": {
        "id": "LnSeybp7bNKY"
      },
      "source": [
        "REVERSE A NUMBER OR A STRING"
      ]
    },
    {
      "cell_type": "code",
      "execution_count": null,
      "metadata": {
        "colab": {
          "base_uri": "https://localhost:8080/"
        },
        "id": "ozzZao59bXBs",
        "outputId": "5ae78cf3-5bae-4e9d-bf02-d3b29c0cf7a4"
      },
      "outputs": [
        {
          "name": "stdout",
          "output_type": "stream",
          "text": [
            "Enter a number : 123\n"
          ]
        },
        {
          "data": {
            "text/plain": [
              "321"
            ]
          },
          "execution_count": 12,
          "metadata": {},
          "output_type": "execute_result"
        }
      ],
      "source": [
        "#using slicing\n",
        "def reverse_num(n):\n",
        "  str_n=str(n)\n",
        "  str_p=str_n[::-1]\n",
        "  rev_n=int(str_p)     #type casting\n",
        "  return rev_n\n",
        "n=int(input(\"Enter a number : \"))\n",
        "reverse_num(n)\n",
        "\n"
      ]
    },
    {
      "cell_type": "markdown",
      "metadata": {
        "id": "l0pKrI9BcNNu"
      },
      "source": [
        "SWAP TWO NUMBERS"
      ]
    },
    {
      "cell_type": "code",
      "execution_count": null,
      "metadata": {
        "colab": {
          "base_uri": "https://localhost:8080/"
        },
        "id": "oQ3HV-k4cQsR",
        "outputId": "2a017d7c-196a-41c0-c2be-ffb622848a97"
      },
      "outputs": [
        {
          "name": "stdout",
          "output_type": "stream",
          "text": [
            "Enter a number : 3\n",
            "Enter b number : 4\n",
            "A value is 4 and B value is 3\n",
            "Enter a number : 3\n",
            "Enter b number : 2\n",
            "A value is 2 and B value is 3\n",
            "Enter a number : 4\n",
            "Enter b number : 2\n",
            "A value is 2.0 and B value is 4.0\n",
            "Enter a number : 3\n",
            "Enter b number : 1\n",
            "A value is 1 and B value is 3\n"
          ]
        }
      ],
      "source": [
        "#using Python Style\n",
        "a=int(input(\"Enter a number : \"))\n",
        "b=int(input(\"Enter b number : \"))\n",
        "a,b=b,a\n",
        "print(f\"A value is {a} and B value is {b}\")\n",
        "\n",
        "#using Addition and Subtraction\n",
        "a=int(input(\"Enter a number : \"))\n",
        "b=int(input(\"Enter b number : \"))\n",
        "a=a+b\n",
        "b=a-b\n",
        "a=a-b\n",
        "print(f\"A value is {a} and B value is {b}\")\n",
        "\n",
        "#using Multiplication and Division\n",
        "a=int(input(\"Enter a number : \"))\n",
        "b=int(input(\"Enter b number : \"))\n",
        "a=a*b\n",
        "b=a/b\n",
        "a=a/b\n",
        "print(f\"A value is {a} and B value is {b}\")\n",
        "\n",
        "\n",
        "#using Carot ^\n",
        "a=int(input(\"Enter a number : \"))\n",
        "b=int(input(\"Enter b number : \"))\n",
        "a=a^b\n",
        "b=a^b\n",
        "a=a^b\n",
        "print(f\"A value is {a} and B value is {b}\")\n",
        "\n",
        "#using TEMP VARIABLE\n",
        "a=int(input(\"Enter a number : \"))\n",
        "b=int(input(\"Enter b number : \"))\n",
        "temp=a\n",
        "a=b\n",
        "b=temp\n",
        "print(f\"A value is {a} and B value is {b}\")"
      ]
    },
    {
      "cell_type": "markdown",
      "metadata": {
        "id": "xcbqOapJdsa0"
      },
      "source": [
        "AVERAGE\n"
      ]
    },
    {
      "cell_type": "code",
      "execution_count": null,
      "metadata": {
        "colab": {
          "base_uri": "https://localhost:8080/"
        },
        "id": "7VK1VW_pdvgf",
        "outputId": "81311213-9b24-425f-fbd5-754399b918bf"
      },
      "outputs": [
        {
          "name": "stdout",
          "output_type": "stream",
          "text": [
            "Average: 3.0\n"
          ]
        }
      ],
      "source": [
        "numbers = [1, 2, 3, 4, 5]\n",
        "sum=0\n",
        "for i in numbers:\n",
        "  sum +=i\n",
        "average = sum/len(numbers)\n",
        "print(f\"Average: {average}\")"
      ]
    },
    {
      "cell_type": "markdown",
      "metadata": {
        "id": "kSyDmaYtfSJB"
      },
      "source": [
        "TABLES"
      ]
    },
    {
      "cell_type": "code",
      "execution_count": null,
      "metadata": {
        "colab": {
          "base_uri": "https://localhost:8080/"
        },
        "id": "V-kK-i80fWkz",
        "outputId": "65547f95-9cf5-455f-ea0a-830a1fadfa67"
      },
      "outputs": [
        {
          "name": "stdout",
          "output_type": "stream",
          "text": [
            "Enter a number :6\n",
            "6x1=6\n",
            "6x2=12\n",
            "6x3=18\n",
            "6x4=24\n",
            "6x5=30\n",
            "6x6=36\n",
            "6x7=42\n",
            "6x8=48\n",
            "6x9=54\n",
            "6x10=60\n"
          ]
        }
      ],
      "source": [
        "n=int(input(\"Enter a number :\"))\n",
        "for i in range(1,11):\n",
        "  print(f\"{n}x{i}={n*i}\")"
      ]
    },
    {
      "cell_type": "markdown",
      "metadata": {
        "id": "23zepwYmfvO3"
      },
      "source": [
        "PRIME NUMBER"
      ]
    },
    {
      "cell_type": "code",
      "execution_count": null,
      "metadata": {
        "colab": {
          "base_uri": "https://localhost:8080/"
        },
        "id": "98QCM9shf3-J",
        "outputId": "2075cd6c-377b-4e78-8c8a-8992034948f2"
      },
      "outputs": [
        {
          "name": "stdout",
          "output_type": "stream",
          "text": [
            "Enter a number : 23\n",
            "Prime Number \n"
          ]
        }
      ],
      "source": [
        "# A number which is multiple by 1 and itself eg:2,3,5,7,11,13,17,19,23\n",
        "n=int(input(\"Enter a number : \"))\n",
        "count=0\n",
        "if n>1:\n",
        "  for i in range(1,n+1):\n",
        "    if n%i == 0:\n",
        "      count +=1\n",
        "  if count == 2:\n",
        "    print(\"Prime Number \")\n",
        "  else:\n",
        "    print(\"Not a Prime Number\")"
      ]
    },
    {
      "cell_type": "markdown",
      "metadata": {
        "id": "FUbh3jt1h9BQ"
      },
      "source": [
        "FIBONACCI SERIES"
      ]
    },
    {
      "cell_type": "code",
      "execution_count": null,
      "metadata": {
        "colab": {
          "base_uri": "https://localhost:8080/"
        },
        "id": "ePvQnXGAh_uS",
        "outputId": "8e8cef60-884a-4192-b61e-7ada5e862ff0"
      },
      "outputs": [
        {
          "name": "stdout",
          "output_type": "stream",
          "text": [
            "Fibonacci Series (first 10 terms):\n",
            "[0, 1, 1, 2, 3, 5, 8, 13, 21, 34]\n"
          ]
        }
      ],
      "source": [
        "''' it is a series of numbers in which each number\n",
        " (known as a fibonacci number)is the sum of the two preceding ones,usually starting with 0 and 1\n",
        " f(0)=0\n",
        " f(1)=1\n",
        " f(n)=f(n-1)+f(n-2)\n",
        " each number in the fibonacci series is the sum of the previous two numbers'''\n",
        "\n",
        "\n",
        "n1=0\n",
        "n2=1\n",
        "print(n1)\n",
        "print(n2)\n",
        "for i in range(2,10):\n",
        "  sum=n1+n2\n",
        "  print(sum)\n",
        "  n1=n2\n",
        "  n2=sum\n",
        "\n",
        "\n",
        "\n",
        "\n",
        "def generate_fibonacci(n):\n",
        "    fibonacci_series = [0, 1]\n",
        "    for i in range(2, n):\n",
        "        next_number = fibonacci_series[-1] + fibonacci_series[-2]\n",
        "        fibonacci_series.append(next_number)\n",
        "    return fibonacci_series\n",
        "# Specify the number of terms you want in the Fibonacci series\n",
        "number_of_terms = 10\n",
        "# Generate and print the Fibonacci series\n",
        "fibonacci_result = generate_fibonacci(number_of_terms)\n",
        "print(f\"Fibonacci Series (first {number_of_terms} terms):\")\n",
        "print(fibonacci_result)\n"
      ]
    },
    {
      "cell_type": "markdown",
      "metadata": {
        "id": "r5RTIYyokHBJ"
      },
      "source": [
        "GCD OF TWO NUMBERS"
      ]
    },
    {
      "cell_type": "code",
      "execution_count": null,
      "metadata": {
        "colab": {
          "base_uri": "https://localhost:8080/"
        },
        "id": "X2MqXOifkJ9P",
        "outputId": "466c65c4-57c8-452e-f862-9fc3300959db"
      },
      "outputs": [
        {
          "name": "stdout",
          "output_type": "stream",
          "text": [
            "Enter a number : 5\n",
            "Enter b number : 7\n",
            "The GCD of 5 and 7 is: 1\n"
          ]
        }
      ],
      "source": [
        "#Greatest Common Divisor\n",
        "def gcd(a,b):\n",
        "  while b:\n",
        "    a,b=b,a%b\n",
        "  return a\n",
        "a=int(input(\"Enter a number : \"))\n",
        "b=int(input(\"Enter b number : \"))\n",
        "print(gcd(a,b))\n",
        "\n",
        "\n",
        "import math\n",
        "\n",
        "# Given numbers\n",
        "num1 = 5\n",
        "num2 = 7\n",
        "\n",
        "# Calculate GCD using math.gcd\n",
        "gcd_result = math.gcd(num1, num2)\n",
        "\n",
        "print(f\"The GCD of {num1} and {num2} is: {gcd_result}\")\n"
      ]
    },
    {
      "cell_type": "markdown",
      "metadata": {
        "id": "aL7hweolmRu9"
      },
      "source": [
        "LCM  LEAST COMMON MULTIPLE"
      ]
    },
    {
      "cell_type": "code",
      "execution_count": null,
      "metadata": {
        "colab": {
          "base_uri": "https://localhost:8080/"
        },
        "id": "wMDwVunmmWxL",
        "outputId": "c5c2dbc8-f107-46eb-e4d7-841640173b61"
      },
      "outputs": [
        {
          "name": "stdout",
          "output_type": "stream",
          "text": [
            "Enter a number : 5\n",
            "Enter b number : 7\n"
          ]
        },
        {
          "data": {
            "text/plain": [
              "35"
            ]
          },
          "execution_count": 3,
          "metadata": {},
          "output_type": "execute_result"
        }
      ],
      "source": [
        "def gcd(a,b):\n",
        "  while b:\n",
        "    a,b=b,a%b\n",
        "  return a\n",
        "def lcm(a,b):\n",
        "  return (a*b)\n",
        "a=int(input(\"Enter a number : \"))\n",
        "b=int(input(\"Enter b number : \"))\n",
        "lcm(a,b)"
      ]
    },
    {
      "cell_type": "markdown",
      "metadata": {
        "id": "KHa_nH4XHuCa"
      },
      "source": [
        "COUNT OF VOWELS ABD CONSONANTS"
      ]
    },
    {
      "cell_type": "code",
      "execution_count": null,
      "metadata": {
        "colab": {
          "base_uri": "https://localhost:8080/"
        },
        "id": "_kK77V1kHyYf",
        "outputId": "0c4371f5-da23-4aa4-8307-7d6b827522b1"
      },
      "outputs": [
        {
          "name": "stdout",
          "output_type": "stream",
          "text": [
            "Enter String : lakshmi\n",
            "Vowels 2\n",
            "Consonants 5\n"
          ]
        }
      ],
      "source": [
        "def count_v_c(s):\n",
        "  vowels=\"AEIOUaeiou\"\n",
        "  num_vowels=sum(1 for char in s if char in vowels)\n",
        "  num_consonants=len(s)-num_vowels\n",
        "  return num_vowels,num_consonants\n",
        "s=input(\"Enter String : \")\n",
        "vowels,consonants=count_v_c(s)\n",
        "print(\"Vowels\",vowels)\n",
        "print(\"Consonants\",consonants)"
      ]
    },
    {
      "cell_type": "markdown",
      "metadata": {
        "id": "ZkH8qydIJhs2"
      },
      "source": [
        "REVERSE A LIST OF ITEMS"
      ]
    },
    {
      "cell_type": "code",
      "execution_count": null,
      "metadata": {
        "colab": {
          "base_uri": "https://localhost:8080/"
        },
        "id": "1R_2Gl31JopX",
        "outputId": "d806524d-366a-4907-8d03-ba3f6c89fad4"
      },
      "outputs": [
        {
          "name": "stdout",
          "output_type": "stream",
          "text": [
            "[1, 2, 3, 4, 5]\n",
            "[5, 4, 3, 2, 1]\n"
          ]
        }
      ],
      "source": [
        "def reverse_list(n):\n",
        "  start=0\n",
        "  end=len(n)-1\n",
        "  while start <end:\n",
        "    n[start],n[end]=n[end],n[start]\n",
        "    start +=1\n",
        "    end -=1\n",
        "n=[1,2,3,4,5]\n",
        "print(n)\n",
        "reverse_list(n)\n",
        "print(n)"
      ]
    },
    {
      "cell_type": "markdown",
      "metadata": {
        "id": "PIpBhp_Ur2eT"
      },
      "source": [
        "REMOVE DUPLICATES FROM LIST"
      ]
    },
    {
      "cell_type": "code",
      "execution_count": null,
      "metadata": {
        "colab": {
          "base_uri": "https://localhost:8080/"
        },
        "id": "MFhbC81Cr9Ry",
        "outputId": "5c39a191-bf2b-4ebd-fa25-66218195113b"
      },
      "outputs": [
        {
          "name": "stdout",
          "output_type": "stream",
          "text": [
            "[1, 2, 3, 4, 5, 6, 7, 8, 9]\n"
          ]
        }
      ],
      "source": [
        "def remove_duplicates(n):\n",
        "  seen=set()\n",
        "  output_list=[]\n",
        "  for item in n:\n",
        "    if item not in seen:\n",
        "      output_list.append(item)\n",
        "      seen.add(item)\n",
        "  return output_list\n",
        "n=[1,2,2,3,4,5,5,6,7,8,9,9]\n",
        "new_list=remove_duplicates(n)\n",
        "print(new_list)"
      ]
    },
    {
      "cell_type": "markdown",
      "metadata": {
        "id": "taIm_nypvxLx"
      },
      "source": [
        "CAPITALIZE FIRST LETTER IN A SENTENCE"
      ]
    },
    {
      "cell_type": "code",
      "execution_count": null,
      "metadata": {
        "colab": {
          "base_uri": "https://localhost:8080/",
          "height": 53
        },
        "id": "if-0UZOfwczp",
        "outputId": "570563bd-2c27-462c-8508-ed278482c430"
      },
      "outputs": [
        {
          "name": "stdout",
          "output_type": "stream",
          "text": [
            "Enter a Sentence : bharath kumar yadav\n"
          ]
        },
        {
          "data": {
            "application/vnd.google.colaboratory.intrinsic+json": {
              "type": "string"
            },
            "text/plain": [
              "'Bharath Kumar Yadav'"
            ]
          },
          "execution_count": 5,
          "metadata": {},
          "output_type": "execute_result"
        }
      ],
      "source": [
        "def capitalize_words(sentence):\n",
        "  words=sentence.split()\n",
        "  capitalized_words=[word.capitalize() for word in words]\n",
        "  return ' '.join(capitalized_words)\n",
        "sentence=input(\"Enter a Sentence : \")\n",
        "capitalize_words(sentence)"
      ]
    },
    {
      "cell_type": "markdown",
      "metadata": {
        "id": "Hgw2nsjzxM_h"
      },
      "source": [
        "CHARACTER COUNT IN A STRING"
      ]
    },
    {
      "cell_type": "code",
      "execution_count": null,
      "metadata": {
        "colab": {
          "base_uri": "https://localhost:8080/"
        },
        "id": "AOj7wniXxYvp",
        "outputId": "8391be48-b43d-451f-ae26-494586f549c8"
      },
      "outputs": [
        {
          "name": "stdout",
          "output_type": "stream",
          "text": [
            "h occurs 12 times in the String.\n",
            "Enter a String : bharath\n",
            "b appears 1 times\n",
            "h appears 2 times\n",
            "a appears 2 times\n",
            "r appears 1 times\n",
            "t appears 1 times\n"
          ]
        }
      ],
      "source": [
        "#using Count function its find only particular character only\n",
        "string1=input(\"Enter a String : \")\n",
        "char=input(\"Enter the character to count : \")\n",
        "count=string1.count(char)\n",
        "print(f\"{char} occurs {count} times in the String.\")\n",
        "\n",
        "\n",
        "#it find all the characters count\n",
        "def count_characters(input_string):\n",
        "  char_count={}\n",
        "  for char in input_string:\n",
        "    if char in char_count:\n",
        "      char_count[char] +=1\n",
        "    else:\n",
        "      char_count[char]=1\n",
        "  return char_count\n",
        "input_string=input(\"Enter a String : \")\n",
        "result=count_characters(input_string)\n",
        "for char,count in result.items():\n",
        "  print(f\"{char} appears {count} times\")"
      ]
    },
    {
      "cell_type": "markdown",
      "metadata": {
        "id": "79UCmECFyjSI"
      },
      "source": [
        "LARGEST VALUE IN AN ARRAY OR LIST"
      ]
    },
    {
      "cell_type": "code",
      "execution_count": null,
      "metadata": {
        "colab": {
          "base_uri": "https://localhost:8080/"
        },
        "id": "lnrQfe_ty-Vi",
        "outputId": "6c9c356c-2bdb-4494-8144-95991d400049"
      },
      "outputs": [
        {
          "name": "stdout",
          "output_type": "stream",
          "text": [
            "Enter a Number Which You want : 8\n",
            "The 3rd highest salary is: The list doesn't have at least 8 unique salaries.\n"
          ]
        }
      ],
      "source": [
        "def find_nth_highest_salary(salaries, n):\n",
        "    # Remove duplicates by converting the list to a set\n",
        "    unique_salaries = set(salaries)\n",
        "    # Check if there are at least N unique elements\n",
        "    if len(unique_salaries) < n:\n",
        "        return f\"The list doesn't have at least {n} unique salaries.\"\n",
        "    # Find the Nth highest salary\n",
        "    nth_highest_salary = sorted(unique_salaries, reverse=True)[n - 1]\n",
        "    return nth_highest_salary\n",
        "# Example list of salaries\n",
        "salary_list = [50000, 60000, 55000, 70000, 60000, 80000, 70000]\n",
        "n=int(input(\"Enter a Number Which You want : \"))\n",
        "# Find and print the nth highest salary\n",
        "nth_highest_salary = find_nth_highest_salary(salary_list, n)\n",
        "print(f\"The nth highest salary is: {nth_highest_salary}\")\n",
        "\n",
        "\n"
      ]
    },
    {
      "cell_type": "markdown",
      "metadata": {
        "id": "BP5_XsNa0-yU"
      },
      "source": [
        "SMALLEST VALUE IN AN ARRAY OR LIST"
      ]
    },
    {
      "cell_type": "code",
      "execution_count": null,
      "metadata": {
        "colab": {
          "base_uri": "https://localhost:8080/"
        },
        "id": "z4ukMw0V2Miq",
        "outputId": "9b648416-3762-4c04-fcfd-f7a7b54d3dbd"
      },
      "outputs": [
        {
          "name": "stdout",
          "output_type": "stream",
          "text": [
            "Enter a Number Which You want : 2\n",
            "The nth smallest value is: 7\n"
          ]
        }
      ],
      "source": [
        "def find_nth_smallest_value(values, n):\n",
        "    # Remove duplicates by converting the list to a set\n",
        "    unique_values = set(values)\n",
        "\n",
        "    # Check if there are at least N unique elements\n",
        "    if len(unique_values) < n:\n",
        "        return f\"The list doesn't have at least {n} unique values.\"\n",
        "\n",
        "    # Find the Nth smallest value\n",
        "    nth_smallest_value = sorted(unique_values)[n - 1]\n",
        "    return nth_smallest_value\n",
        "\n",
        "# Example list of values\n",
        "value_list = [10, 5, 8, 15, 7, 10, 12]\n",
        "n=int(input(\"Enter a Number Which You want : \"))\n",
        "# Find and print the nth smallest value\n",
        "nth_smallest_value = find_nth_smallest_value(value_list, n)\n",
        "print(f\"The nth smallest value is: {nth_smallest_value}\")\n",
        "\n"
      ]
    },
    {
      "cell_type": "markdown",
      "metadata": {
        "id": "KzeP6ifj3Ir5"
      },
      "source": [
        "CHECK A YEAR LEAF YEAR OR NOT"
      ]
    },
    {
      "cell_type": "code",
      "execution_count": null,
      "metadata": {
        "colab": {
          "base_uri": "https://localhost:8080/"
        },
        "id": "fqguu-CJ3MIS",
        "outputId": "40a086de-8b0b-4840-f28c-0802d2f8be96"
      },
      "outputs": [
        {
          "name": "stdout",
          "output_type": "stream",
          "text": [
            "Enter a year  :2024\n",
            " 2024 is Leaf Year \n"
          ]
        }
      ],
      "source": [
        "year=int(input(\"Enter a year  :\"))\n",
        "if(year %4 == 0 and year %100 != 0) or (year %100 ==0):\n",
        "  print(f\" {year} is Leaf Year \")\n",
        "else:\n",
        "  print(f\"{year} is Not a Leaf Year\")\n"
      ]
    },
    {
      "cell_type": "markdown",
      "metadata": {
        "id": "SBj4hNh7DKUl"
      },
      "source": [
        "ASCII VALUE OF A CHARACTER"
      ]
    },
    {
      "cell_type": "code",
      "execution_count": null,
      "metadata": {
        "colab": {
          "base_uri": "https://localhost:8080/"
        },
        "id": "SR8oRoMUz-rL",
        "outputId": "019c0005-80dd-4524-bee5-5fd24acb445a"
      },
      "outputs": [
        {
          "name": "stdout",
          "output_type": "stream",
          "text": [
            "Enter a character : A\n",
            "ASCII value of A : 65\n"
          ]
        }
      ],
      "source": [
        "char=input(\"Enter a character : \")\n",
        "ascii_value=ord(char)\n",
        "print(f\"ASCII value of {char} : {ascii_value}\")"
      ]
    },
    {
      "cell_type": "markdown",
      "metadata": {
        "id": "ZEydHd9n0Wuz"
      },
      "source": [
        "ARMSTRONG NUMBER"
      ]
    },
    {
      "cell_type": "code",
      "execution_count": null,
      "metadata": {
        "colab": {
          "base_uri": "https://localhost:8080/"
        },
        "id": "gQgn0z6d08Un",
        "outputId": "00d9e8d0-e8db-4b8e-b8bf-7530e2298ed4"
      },
      "outputs": [
        {
          "name": "stdout",
          "output_type": "stream",
          "text": [
            "Enter a number : 153\n",
            "153 is Armstrong Number\n"
          ]
        }
      ],
      "source": [
        "'''An Armstrong number is a special type of number. To check if a number\n",
        "is an Armstrong number, you follow these steps:\n",
        "\n",
        "Count the Digits:\n",
        "Find out how many digits are there in the number.\n",
        "\n",
        "Raise Each Digit to the Power of the Total Digits:\n",
        "Take each digit in the number and raise it to the power of the total number of digits.\n",
        "\n",
        "Sum the Results:\n",
        "Add up all these results from step 2.\n",
        "\n",
        "Check if the Sum is Equal to the Original Number:\n",
        "If the sum from step 3 is equal to the original number, then the number is an Armstrong number.\n",
        "\n",
        "Here's a simple example with the number 153:\n",
        "Number: 153\n",
        "Digits: 3'''\n",
        "\n",
        "\n",
        "num=int(input(\"Enter a number : \"))\n",
        "num_str=str(num)\n",
        "num_digits=len(num_str)\n",
        "digit_sum=sum(int(digit)**num_digits for digit in num_str)\n",
        "if num == digit_sum:\n",
        "  print(f\"{num} is Armstrong Number\")\n",
        "else:\n",
        "  print(f\"{num} is Not Armstrong Number\")"
      ]
    },
    {
      "cell_type": "markdown",
      "metadata": {
        "id": "CTXDUpVy23R-"
      },
      "source": [
        "SUM OF ELEMENTS IN AN ARRAY"
      ]
    },
    {
      "cell_type": "code",
      "execution_count": null,
      "metadata": {
        "colab": {
          "base_uri": "https://localhost:8080/"
        },
        "id": "KrKNRZyc3AfB",
        "outputId": "6e3ee876-3c45-4a2c-fa2e-ecf498630eec"
      },
      "outputs": [
        {
          "name": "stdout",
          "output_type": "stream",
          "text": [
            "15\n",
            "25\n",
            "The sum of elements in the array is: 67\n"
          ]
        }
      ],
      "source": [
        "#using Sum Function\n",
        "arr=[1,2,3,4,5]\n",
        "total = sum(arr)\n",
        "print(total)\n",
        "total=sum(arr,10)\n",
        "print(total)\n",
        "\n",
        "\n",
        "\n",
        "# Example array\n",
        "my_array = [10, 5, 8, 15, 7, 10, 12]\n",
        "# Initialize a variable to store the sum\n",
        "array_sum = 0\n",
        "# Loop through each element and add it to the sum\n",
        "for element in my_array:\n",
        "    array_sum += element\n",
        "# Print the result\n",
        "print(f\"The sum of elements in the array is: {array_sum}\")\n"
      ]
    },
    {
      "cell_type": "markdown",
      "metadata": {
        "id": "zyyoxfv94D9N"
      },
      "source": [
        "MINIMUM AND MAXIMUM ELEMENT IN AN ARRAY OR LIST"
      ]
    },
    {
      "cell_type": "code",
      "execution_count": null,
      "metadata": {
        "colab": {
          "base_uri": "https://localhost:8080/"
        },
        "id": "O5AaSn194NJM",
        "outputId": "f2f7cc1c-6379-423e-f9be-0aeef2e3f326"
      },
      "outputs": [
        {
          "name": "stdout",
          "output_type": "stream",
          "text": [
            "10\n",
            "1\n"
          ]
        }
      ],
      "source": [
        "#MAXIMUM Element\n",
        "arr=[1,2,3,4,5,10]\n",
        "max=arr[0]\n",
        "for i in range(1,len(arr)):\n",
        "  if arr[i]> max:\n",
        "    max=arr[i]\n",
        "print(max)\n",
        "\n",
        "\n",
        "arr=[1,2,3,4,5,10]\n",
        "min=arr[0]\n",
        "for i in range(1,len(arr)):\n",
        "  if arr[i]<min:\n",
        "    min=arr[i]\n",
        "print(min)"
      ]
    },
    {
      "cell_type": "markdown",
      "metadata": {
        "id": "ctHei7ou5Dy4"
      },
      "source": [
        "LENGTH OF AN ARRAY"
      ]
    },
    {
      "cell_type": "code",
      "execution_count": null,
      "metadata": {
        "colab": {
          "base_uri": "https://localhost:8080/"
        },
        "id": "ya4ogyUf5dx_",
        "outputId": "b7a50426-e320-4eb7-864e-88c24b8aa9d5"
      },
      "outputs": [
        {
          "name": "stdout",
          "output_type": "stream",
          "text": [
            "11\n",
            "11\n"
          ]
        }
      ],
      "source": [
        "#using Length function\n",
        "arr=[1,2,4,3,5,1,3,5,6,7,8]\n",
        "print(len(arr))\n",
        "\n",
        "#using count method\n",
        "arr=[1,2,4,3,5,1,3,5,6,7,8]\n",
        "count=0\n",
        "for i in arr:\n",
        "  count +=1\n",
        "print(count)"
      ]
    },
    {
      "cell_type": "markdown",
      "metadata": {
        "id": "QTBVs-Ed6Qpn"
      },
      "source": [
        "SEARCH A ELEMENT IN AN ARRAY"
      ]
    },
    {
      "cell_type": "code",
      "execution_count": null,
      "metadata": {
        "colab": {
          "base_uri": "https://localhost:8080/"
        },
        "id": "4eIr8dFa6YQ_",
        "outputId": "96bca9a0-7714-4d27-e1ec-1c7e4aaf3924"
      },
      "outputs": [
        {
          "name": "stdout",
          "output_type": "stream",
          "text": [
            "Enter a Element : 8\n",
            "element found\n",
            "Enter a Element : 8\n",
            "8  Element is  Found\n"
          ]
        }
      ],
      "source": [
        "arr=[1,2,3,4,5,2,1,13,6,8,90]\n",
        "element=int(input(\"Enter a Element : \"))\n",
        "flag=0\n",
        "for i in arr:\n",
        "  if (i==element):\n",
        "    print(\"Element found\")\n",
        "    falg=1\n",
        "    break\n",
        "\n",
        "\n",
        "  #using   IN operation\n",
        "arr=[1,2,3,4,5,2,1,13,6,8,90]\n",
        "element=int(input(\"Enter a Element : \"))\n",
        "if element in arr:\n",
        "  print(f\"{element}  Element is  Found\")\n",
        "else:\n",
        "  print(f\"{element}  Element is Not Found\")\n",
        "\n"
      ]
    },
    {
      "cell_type": "markdown",
      "metadata": {
        "id": "IT1dyoHoRo-y"
      },
      "source": [
        "TUPLE PACKING AND UNPACKING"
      ]
    },
    {
      "cell_type": "code",
      "execution_count": null,
      "metadata": {
        "colab": {
          "base_uri": "https://localhost:8080/"
        },
        "id": "6YTxVJgqS1wG",
        "outputId": "fe43bdc0-2a26-4d95-e776-0da59954c8b0"
      },
      "outputs": [
        {
          "name": "stdout",
          "output_type": "stream",
          "text": [
            "<class 'tuple'>\n",
            "Bharath\n",
            "20\n",
            "Student\n"
          ]
        }
      ],
      "source": [
        "#tuple packing\n",
        "pack=\"Bharath\",\"Kumar\",\"Yadav\"\n",
        "print(pack)\n",
        "print(type(pack))\n",
        "\n",
        "\n",
        "\n",
        "#tuple unpacking\n",
        "pack=\"Bharath\",20,\"Student\"\n",
        "name,age,ocupation=pack\n",
        "print(name)\n",
        "print(age)\n",
        "print(ocupation)"
      ]
    },
    {
      "cell_type": "markdown",
      "metadata": {
        "id": "zbLbu72VU2B9"
      },
      "source": [
        "COMPARE TWO VALUES ARE POINTING SAME OBJECT"
      ]
    },
    {
      "cell_type": "code",
      "execution_count": null,
      "metadata": {
        "colab": {
          "base_uri": "https://localhost:8080/"
        },
        "id": "Yu63vPFNVLQx",
        "outputId": "83861e50-cdaa-4c7e-f52e-648d1df138fe"
      },
      "outputs": [
        {
          "name": "stdout",
          "output_type": "stream",
          "text": [
            "True\n",
            "True\n"
          ]
        }
      ],
      "source": [
        "a=10\n",
        "b=10\n",
        "print(a is b) #using IS operator\n",
        "result = id(a)==id(b) # using Id For Campare two Values\n",
        "print(result)"
      ]
    },
    {
      "cell_type": "markdown",
      "metadata": {
        "id": "yOJ12r8zWNhz"
      },
      "source": [
        "USE OF ELSE IN FOR LOOP"
      ]
    },
    {
      "cell_type": "code",
      "execution_count": null,
      "metadata": {
        "colab": {
          "base_uri": "https://localhost:8080/"
        },
        "id": "RT1DRgjIWQUu",
        "outputId": "4878107a-01a8-4a56-8a59-ec9f81c7b3e1"
      },
      "outputs": [
        {
          "name": "stdout",
          "output_type": "stream",
          "text": [
            "apple is not found\n",
            "mango is not found\n",
            "grapes is not found\n",
            "cherry is not found\n"
          ]
        }
      ],
      "source": [
        "fruits=[\"apple\",\"mango\",\"grapes\",\"cherry\"]\n",
        "for fruit in fruits:\n",
        "  if fruit == \"orange\":\n",
        "    print(f\"{fruit} is Found\")\n",
        "    break\n",
        "  else:\n",
        "    print(f\"{fruit} is not found\")"
      ]
    },
    {
      "cell_type": "markdown",
      "metadata": {
        "id": "LbkajrA4XDXw"
      },
      "source": [
        "USE OF ELSE IN WHILE LOOP"
      ]
    },
    {
      "cell_type": "code",
      "execution_count": null,
      "metadata": {
        "colab": {
          "base_uri": "https://localhost:8080/"
        },
        "id": "SIW8PAd0XIE_",
        "outputId": "3ebd9511-0d04-4aee-89df-f208a94369c6"
      },
      "outputs": [
        {
          "name": "stdout",
          "output_type": "stream",
          "text": [
            "Count is 0\n",
            "Count is 1\n",
            "Count is 2\n",
            "Count is 3\n",
            "Count is 4\n",
            "Loop Completed without encountering a break statement\n"
          ]
        }
      ],
      "source": [
        "count =0\n",
        "while count <5:\n",
        "  print(f\"Count is {count}\")\n",
        "  count +=1\n",
        "else:\n",
        "  print(\"Loop Completed without encountering a break statement\")"
      ]
    },
    {
      "cell_type": "markdown",
      "metadata": {
        "id": "x2Dda4rVZagq"
      },
      "source": [
        "CHECK PYTHON VERSION"
      ]
    },
    {
      "cell_type": "code",
      "execution_count": null,
      "metadata": {
        "colab": {
          "base_uri": "https://localhost:8080/"
        },
        "id": "P3QgD-xQZofK",
        "outputId": "3960b495-5035-45ec-e449-61ca12066b86"
      },
      "outputs": [
        {
          "name": "stdout",
          "output_type": "stream",
          "text": [
            "Python Version is :  3.10.12 (main, Nov 20 2023, 15:14:05) [GCC 11.4.0]\n"
          ]
        }
      ],
      "source": [
        "import sys\n",
        "python_version=sys.version\n",
        "print(\"Python Version is : \",python_version)"
      ]
    },
    {
      "cell_type": "markdown",
      "metadata": {
        "id": "5QiE-r-raRkZ"
      },
      "source": [
        "REFRENCES POINTING TO A PARTICULAR OBJECT"
      ]
    },
    {
      "cell_type": "code",
      "execution_count": null,
      "metadata": {
        "colab": {
          "base_uri": "https://localhost:8080/"
        },
        "id": "1BRXGXNZaYO6",
        "outputId": "aa8367d4-9ce8-4b66-94a4-06a96c734457"
      },
      "outputs": [
        {
          "name": "stdout",
          "output_type": "stream",
          "text": [
            "1\n",
            "4\n"
          ]
        }
      ],
      "source": [
        "import sys\n",
        "my_list=[1,2,3,[1,2]]\n",
        "ref_count=sys.getrefcount(my_list)\n",
        "actual_count=ref_count-1\n",
        "print(actual_count)\n",
        "\n",
        "\n",
        "x=\"Bharath Yadav\"\n",
        "y=x\n",
        "print(sys.getrefcount(x))"
      ]
    },
    {
      "cell_type": "markdown",
      "metadata": {
        "id": "2q-CfMREccCp"
      },
      "source": [
        "DISPOSE A VARIABLE"
      ]
    },
    {
      "cell_type": "code",
      "execution_count": null,
      "metadata": {
        "colab": {
          "base_uri": "https://localhost:8080/",
          "height": 227
        },
        "id": "RZwRl0Jtch4Y",
        "outputId": "249cbf14-0a9b-4778-92d0-1c7048b6f563"
      },
      "outputs": [
        {
          "name": "stdout",
          "output_type": "stream",
          "text": [
            "10\n"
          ]
        },
        {
          "ename": "NameError",
          "evalue": "name 'a' is not defined",
          "output_type": "error",
          "traceback": [
            "\u001b[0;31m---------------------------------------------------------------------------\u001b[0m",
            "\u001b[0;31mNameError\u001b[0m                                 Traceback (most recent call last)",
            "\u001b[0;32m<ipython-input-39-1308597fb290>\u001b[0m in \u001b[0;36m<cell line: 4>\u001b[0;34m()\u001b[0m\n\u001b[1;32m      2\u001b[0m \u001b[0mprint\u001b[0m\u001b[0;34m(\u001b[0m\u001b[0ma\u001b[0m\u001b[0;34m)\u001b[0m\u001b[0;34m\u001b[0m\u001b[0;34m\u001b[0m\u001b[0m\n\u001b[1;32m      3\u001b[0m \u001b[0;32mdel\u001b[0m \u001b[0ma\u001b[0m\u001b[0;34m\u001b[0m\u001b[0;34m\u001b[0m\u001b[0m\n\u001b[0;32m----> 4\u001b[0;31m \u001b[0mprint\u001b[0m\u001b[0;34m(\u001b[0m\u001b[0ma\u001b[0m\u001b[0;34m)\u001b[0m\u001b[0;34m\u001b[0m\u001b[0;34m\u001b[0m\u001b[0m\n\u001b[0m",
            "\u001b[0;31mNameError\u001b[0m: name 'a' is not defined"
          ]
        }
      ],
      "source": [
        "a =10\n",
        "print(a)\n",
        "del a\n",
        "print(a)"
      ]
    },
    {
      "cell_type": "markdown",
      "metadata": {
        "id": "V3-mZxCScq-y"
      },
      "source": [
        "SEPERATE A LIST OF VALUES INTO A COMMA SEPERATED VALUES"
      ]
    },
    {
      "cell_type": "code",
      "execution_count": null,
      "metadata": {
        "colab": {
          "base_uri": "https://localhost:8080/"
        },
        "id": "YTWeO70cd5Qi",
        "outputId": "8d28ec46-acdb-4346-e0d1-420d3794b6f3"
      },
      "outputs": [
        {
          "name": "stdout",
          "output_type": "stream",
          "text": [
            "1,2,3,4,5\n"
          ]
        }
      ],
      "source": [
        "my_list=[1,2,3,4,5]\n",
        "comma_seperated_string=','.join(map(str,my_list))\n",
        "print(comma_seperated_string)"
      ]
    },
    {
      "cell_type": "markdown",
      "metadata": {
        "id": "RXO2ulNzeN3n"
      },
      "source": [
        "DIFFERENCE BETWEEN APPEND AND EXTEND"
      ]
    },
    {
      "cell_type": "code",
      "execution_count": null,
      "metadata": {
        "colab": {
          "base_uri": "https://localhost:8080/"
        },
        "id": "glc3IysGeWoU",
        "outputId": "58269ae4-e08f-4c62-eb74-2769b2306abc"
      },
      "outputs": [
        {
          "name": "stdout",
          "output_type": "stream",
          "text": [
            "[10, 20, 30, 40]\n",
            "[10, 20, 30, 40, [50, 60]]\n",
            "[10, 20, 30]\n",
            "[10, 20, 30, 50, 60]\n"
          ]
        }
      ],
      "source": [
        "#append\n",
        "arr=[10,20,30]\n",
        "arr.append(40)\n",
        "print(arr)\n",
        "arr.append([50,60])\n",
        "print(arr)\n",
        "#extend\n",
        "arr=[10,20,30]\n",
        "print(arr)\n",
        "arr.extend([50,60])\n",
        "print(arr)\n"
      ]
    },
    {
      "cell_type": "markdown",
      "metadata": {
        "id": "_QorAPpNetSU"
      },
      "source": [
        "MERGE TWO DICTS"
      ]
    },
    {
      "cell_type": "code",
      "execution_count": null,
      "metadata": {
        "colab": {
          "base_uri": "https://localhost:8080/"
        },
        "id": "jv3kItzDe_E9",
        "outputId": "9c512a85-081e-4cdf-9216-1c64daa492c7"
      },
      "outputs": [
        {
          "name": "stdout",
          "output_type": "stream",
          "text": [
            "{'a': 1, 'b': 2, 'c': 3, 'd': 4}\n"
          ]
        }
      ],
      "source": [
        "dict1={'a':1,'b':2}\n",
        "dict2={'c':3,'d':4}\n",
        "dict1.update(dict2)\n",
        "print(dict1)\n",
        "\n",
        "#using Exponent\n",
        "\n",
        "dict1={'a':1,'b':2}\n",
        "dict2={'c':3,'d':4}\n",
        "merge={**dict1,**dict2}\n",
        "print(merge)\n",
        "\n",
        "#using   | operator\n",
        "dict1={'a':1,'b':2}\n",
        "dict2={'c':3,'d':4}\n",
        "merge = dict1| dict2\n",
        "print(merge)\n",
        "\n"
      ]
    },
    {
      "cell_type": "markdown",
      "metadata": {
        "id": "RncGBRNUfy-X"
      },
      "source": [
        "HOW TO GENERATE RANDOM NUMBERS"
      ]
    },
    {
      "cell_type": "code",
      "execution_count": null,
      "metadata": {
        "colab": {
          "base_uri": "https://localhost:8080/"
        },
        "id": "WJsktCUugNev",
        "outputId": "78f60a39-eb7a-4cb5-866f-3073d87e55f9"
      },
      "outputs": [
        {
          "name": "stdout",
          "output_type": "stream",
          "text": [
            "0.8043548311255034\n",
            "1\n",
            "[3, 1, 7, 5, 2]\n",
            "3\n"
          ]
        }
      ],
      "source": [
        "#using random value\n",
        "import random\n",
        "random_number=random.random()\n",
        "print(random_number)\n",
        "\n",
        "#using randint\n",
        "import random\n",
        "random_number=random.randint(1,10)\n",
        "print(random_number)\n",
        "\n",
        "#using shuffle\n",
        "my_list=[1,2,3,5,7]\n",
        "random.shuffle(my_list)\n",
        "print(my_list)\n",
        "\n",
        "#using choice\n",
        "my_list=[1,2,3,5,7]\n",
        "choice=random.choice(my_list)\n",
        "print(choice)\n"
      ]
    },
    {
      "cell_type": "markdown",
      "metadata": {
        "id": "WXd4G_tvhG6q"
      },
      "source": [
        "CURRENT DATE AND TIME"
      ]
    },
    {
      "cell_type": "code",
      "execution_count": null,
      "metadata": {
        "colab": {
          "base_uri": "https://localhost:8080/"
        },
        "id": "hiMYlrOGhTvq",
        "outputId": "6b457048-d284-483d-edc0-ab2b6fa4d1c1"
      },
      "outputs": [
        {
          "name": "stdout",
          "output_type": "stream",
          "text": [
            "2024-01-07 15:23:46.898451\n"
          ]
        }
      ],
      "source": [
        "import datetime\n",
        "current_datetime=datetime.datetime.now()\n",
        "print(current_datetimeb )"
      ]
    },
    {
      "cell_type": "markdown",
      "metadata": {
        "id": "VEHkxdL2QLqG"
      },
      "source": [
        "ANAGRAMS"
      ]
    },
    {
      "cell_type": "code",
      "execution_count": null,
      "metadata": {
        "colab": {
          "base_uri": "https://localhost:8080/"
        },
        "id": "yBdfssclQmdp",
        "outputId": "a89e7812-caa2-4816-dcd7-11c4f712a72e"
      },
      "outputs": [
        {
          "name": "stdout",
          "output_type": "stream",
          "text": [
            "True\n"
          ]
        }
      ],
      "source": [
        "def are_anagrams(str1, str2):\n",
        "    return sorted(str1) == sorted(str2)\n",
        "\n",
        "print(are_anagrams(\"listen\", \"silent\"))\n"
      ]
    },
    {
      "cell_type": "markdown",
      "metadata": {
        "id": "9XAAOECQQtIb"
      },
      "source": [
        "SET OPERATIONS BETWEEN TWO LISTS"
      ]
    },
    {
      "cell_type": "code",
      "execution_count": null,
      "metadata": {
        "colab": {
          "base_uri": "https://localhost:8080/"
        },
        "id": "YHgdmRczQuhS",
        "outputId": "66624453-8876-40c3-c60d-253de03c77eb"
      },
      "outputs": [
        {
          "name": "stdout",
          "output_type": "stream",
          "text": [
            "[3, 4]\n"
          ]
        }
      ],
      "source": [
        "list1 = [1, 2, 3, 4]\n",
        "list2 = [3, 4, 5, 6]\n",
        "intersection = list(set(list1) & set(list2))\n",
        "print(intersection)\n"
      ]
    },
    {
      "cell_type": "markdown",
      "metadata": {
        "id": "fYaD-Y77Q38t"
      },
      "source": [
        "MISSING NUMBER IN A SEQUENCE"
      ]
    },
    {
      "cell_type": "code",
      "execution_count": null,
      "metadata": {
        "colab": {
          "base_uri": "https://localhost:8080/"
        },
        "id": "Y5k_l3KyQ4lF",
        "outputId": "72de7f32-1bf4-48d0-cf40-6bd736d7f9f5"
      },
      "outputs": [
        {
          "name": "stdout",
          "output_type": "stream",
          "text": [
            "4\n"
          ]
        }
      ],
      "source": [
        "def find_missing_number(nums):\n",
        "    n = len(nums) + 1\n",
        "    expected_sum = n * (n + 1) // 2\n",
        "    actual_sum = sum(nums)\n",
        "    missing_number = expected_sum - actual_sum\n",
        "    return missing_number\n",
        "\n",
        "nums = [1, 2, 3, 5]\n",
        "print(find_missing_number(nums))\n"
      ]
    },
    {
      "cell_type": "markdown",
      "metadata": {
        "id": "mcv69BdRR2wn"
      },
      "source": [
        "CLASS DEFINE"
      ]
    },
    {
      "cell_type": "code",
      "execution_count": null,
      "metadata": {
        "colab": {
          "base_uri": "https://localhost:8080/",
          "height": 35
        },
        "id": "OR1cyP1CR58V",
        "outputId": "b0a89ca0-f383-4590-f795-8e539e971c8e"
      },
      "outputs": [
        {
          "data": {
            "application/vnd.google.colaboratory.intrinsic+json": {
              "type": "string"
            },
            "text/plain": [
              "'My name is Bharath and i am 20 years Old...!'"
            ]
          },
          "execution_count": 1,
          "metadata": {},
          "output_type": "execute_result"
        }
      ],
      "source": [
        "class Student:\n",
        "  def __init__(self,name,age):\n",
        "    self.name = name\n",
        "    self.age = age\n",
        "  def display(self):\n",
        "    return (f\"My name is {self.name} and i am {self.age} years Old...!\")\n",
        "s=Student(\"Bharath\",20)\n",
        "s.display()"
      ]
    },
    {
      "cell_type": "markdown",
      "metadata": {
        "id": "UhsgaCV4Srwe"
      },
      "source": [
        "CODING QUESTIONS"
      ]
    },
    {
      "cell_type": "code",
      "execution_count": null,
      "metadata": {
        "id": "qREdDHgZ-Odu",
        "colab": {
          "base_uri": "https://localhost:8080/"
        },
        "outputId": "4a324ec7-465a-4b48-dd15-a43aef6a4aa6"
      },
      "outputs": [
        {
          "output_type": "stream",
          "name": "stdout",
          "text": [
            "Enter your Name : Bharath\n",
            "Enter your age : 21\n",
            "My Name is Bharath and i am 21 years old\n"
          ]
        }
      ],
      "source": [
        "#accept the input from the users\n",
        "str_value = input(\"Enter your Name : \")\n",
        "int_value = int(input(\"Enter your age : \"))\n",
        "print(f\"My Name is {str_value} and i am {int_value} years old\")"
      ]
    },
    {
      "cell_type": "code",
      "execution_count": null,
      "metadata": {
        "colab": {
          "base_uri": "https://localhost:8080/"
        },
        "id": "jhLRN5a7Tuz2",
        "outputId": "d94a56a2-817d-47bd-d9e2-2c0bbf13895f"
      },
      "outputs": [
        {
          "output_type": "stream",
          "name": "stdout",
          "text": [
            "Enter a Number 0\n",
            "10\n",
            "Enter a Number 1\n",
            "20\n",
            "Enter a Number 2\n",
            "40\n",
            "Enter a Number 3\n",
            "0\n",
            "Enter a Number 4\n",
            "80\n",
            "User list [10.0, 20.0, 40.0, 0.0, 80.0]\n",
            "Enter a Numbers : 99\n",
            "Enter a Numbers : 99\n",
            "Enter a Numbers : 00\n",
            "Enter a Numbers : 88\n",
            "Enter a Numbers : 77\n",
            "User list [99.0, 99.0, 0.0, 88.0, 77.0]\n"
          ]
        }
      ],
      "source": [
        "#accept the 5 Floating values from Users\n",
        "numbers =[]\n",
        "for i in range(0,5):\n",
        "  print(\"Enter a Number\",i)\n",
        "  item = float(input())\n",
        "  numbers.append(item)\n",
        "print(\"User li5st\",numbers)\n",
        "\n",
        "#second Method\n",
        "numbers = [float(input(\"Enter a Numbers : \")) for i in range(5)]\n",
        "print(\"User list\",numbers)"
      ]
    },
    {
      "cell_type": "code",
      "execution_count": null,
      "metadata": {
        "id": "UY9RPa1HBPMU",
        "colab": {
          "base_uri": "https://localhost:8080/"
        },
        "outputId": "207b0a94-2061-4218-ea19-779c2207cac3"
      },
      "outputs": [
        {
          "output_type": "stream",
          "name": "stdout",
          "text": [
            "Current and previous number and thier sum range(10) : \n",
            "Current Number 1 Previous Number 0 and Sum 1\n",
            "Current Number 2 Previous Number 1 and Sum 2\n",
            "Current Number 3 Previous Number 2 and Sum 3\n",
            "Current Number 4 Previous Number 3 and Sum 4\n",
            "Current Number 5 Previous Number 4 and Sum 5\n",
            "Current Number 6 Previous Number 5 and Sum 6\n",
            "Current Number 7 Previous Number 6 and Sum 7\n",
            "Current Number 8 Previous Number 7 and Sum 8\n",
            "Current Number 9 Previous Number 8 and Sum 9\n",
            "Current Number 10 Previous Number 9 and Sum 10\n"
          ]
        }
      ],
      "source": [
        "#print the sum of current number and previous number\n",
        "print(\"Current and previous number and thier sum range(10) : \")\n",
        "previous_num = 0\n",
        "for i in range(1,11):\n",
        "  x_sum = previous_num +1\n",
        "  print(f\"Current Number { i} Previous Number { previous_num} and Sum {x_sum}\")\n",
        "  previous_num = i"
      ]
    },
    {
      "cell_type": "code",
      "execution_count": null,
      "metadata": {
        "id": "NPD7v0cpBrmx",
        "colab": {
          "base_uri": "https://localhost:8080/"
        },
        "outputId": "270a8187-75ed-4c89-c846-af1889ad2830"
      },
      "outputs": [
        {
          "output_type": "stream",
          "name": "stdout",
          "text": [
            "Given List  [10, 20, 30, 40, 50, 10]\n",
            "Result is :  True\n",
            "Given List  [10, 20, 40, 60, 50, 40]\n",
            "Result is :  False\n"
          ]
        }
      ],
      "source": [
        "#Check if the First and Last are Same Or Not\n",
        "def first(numbers):\n",
        "  print(\"Given List \",numbers)\n",
        "  first_num = numbers[0]\n",
        "  last_num = numbers[-1]\n",
        "  if first_num == last_num:\n",
        "    return True\n",
        "  else:\n",
        "    return False\n",
        "\n",
        "x = [10,20,30,40,50,10]\n",
        "print(\"Result is : \",first(x))\n",
        "y = [10,20,40,60,50,40]\n",
        "print(\"Result is : \",first(y))"
      ]
    },
    {
      "cell_type": "code",
      "execution_count": null,
      "metadata": {
        "id": "t7q29B0uDUws",
        "colab": {
          "base_uri": "https://localhost:8080/"
        },
        "outputId": "8fe1293f-1616-4dd7-da1c-c7ab82d4939c"
      },
      "outputs": [
        {
          "output_type": "stream",
          "name": "stdout",
          "text": [
            "{'Sivani', 'Teja', 'Bharath', 'Samrin', 'Ajay'}\n"
          ]
        }
      ],
      "source": [
        "# i have One set Could You please add a list of elements to a set\n",
        "my_set = {\"Teja\", \"Samrin\" , \"Sivani\"}\n",
        "my_list =[\"Ajay\",\"Bharath\"]\n",
        "my_set.update(my_list)\n",
        "print(my_set)"
      ]
    },
    {
      "cell_type": "code",
      "execution_count": null,
      "metadata": {
        "id": "ex0WWhmPD4FJ"
      },
      "outputs": [],
      "source": [
        "# i have One list could you please add  set of elements to a List\n",
        "my_set = {\"Teja\", \"Samrin\" , \"Sivani\"}\n",
        "my_list =[\"Ajay\",\"Bharath\"]\n",
        "my_list.append(my_set)\n",
        "print(my_list)\n",
        "\n"
      ]
    },
    {
      "cell_type": "code",
      "execution_count": null,
      "metadata": {
        "id": "N7mkr2iOERZz",
        "colab": {
          "base_uri": "https://localhost:8080/"
        },
        "outputId": "da07691b-3021-4a93-aa73-9d406729a4f7"
      },
      "outputs": [
        {
          "output_type": "stream",
          "name": "stdout",
          "text": [
            "{'20', '40'}\n"
          ]
        }
      ],
      "source": [
        "#return a new set of identical ites from two sets\n",
        "set_1 = {\"20\",\"30\",\"40\",\"50\"}\n",
        "set_2 = {\"20\",\"40\",\"60\",\"80\"}\n",
        "new_set = set_1.intersection(set_2)\n",
        "print(new_set)\n"
      ]
    },
    {
      "cell_type": "code",
      "execution_count": null,
      "metadata": {
        "id": "XXNcNe8zEyZJ",
        "colab": {
          "base_uri": "https://localhost:8080/"
        },
        "outputId": "23c79578-3cd5-49e6-8fad-92903aba7d62"
      },
      "outputs": [
        {
          "output_type": "stream",
          "name": "stdout",
          "text": [
            "Given List :  [10, 20, 40, 33, 50, 20, 55, 550]\n",
            "10\n",
            "20\n",
            "40\n",
            "50\n",
            "20\n",
            "55\n",
            "550\n",
            "[10, 20, 40, 50, 20, 55, 550]\n"
          ]
        }
      ],
      "source": [
        "#Display the Numbers that are Divisible by 5 from a list\n",
        "list_1 = [10,20,40,33,50,20,55,550]\n",
        "print(\"Given List : \",list_1)\n",
        "for i in list_1:\n",
        "  if (i % 5) ==0:\n",
        "    print(i)\n",
        "\n",
        "\n",
        "#second method\n",
        "list_2 = [10,20,40,33,50,20,55,550]\n",
        "divisible_by_5 = [i for i in list_2 if i %5 ==0]\n",
        "print(divisible_by_5)"
      ]
    },
    {
      "cell_type": "code",
      "execution_count": null,
      "metadata": {
        "id": "5LVfxUAVFiTk",
        "colab": {
          "base_uri": "https://localhost:8080/"
        },
        "outputId": "050d9bd3-74ca-4556-de12-accb8d60c18b"
      },
      "outputs": [
        {
          "output_type": "stream",
          "name": "stdout",
          "text": [
            "Enter a Number : 5\n",
            "1 \n",
            "1 2 \n",
            "1 2 3 \n",
            "1 2 3 4 \n",
            "1 2 3 4 5 \n"
          ]
        }
      ],
      "source": [
        "#print the following pattern\n",
        "# 1 2\n",
        "# 1 2 3\n",
        "# 1 2 3 4\n",
        "# 1 2 3 4 5\n",
        "row = int(input(\"Enter a Number : \"))\n",
        "for i in range(row):\n",
        "  for j in range(i+1):\n",
        "    print(j+1,end=\" \")\n",
        "  print()\n"
      ]
    },
    {
      "cell_type": "code",
      "execution_count": null,
      "metadata": {
        "id": "wnMtU-AAGb80",
        "colab": {
          "base_uri": "https://localhost:8080/"
        },
        "outputId": "9395bc2a-3aa1-4dcf-ea9a-775151c15e78"
      },
      "outputs": [
        {
          "output_type": "stream",
          "name": "stdout",
          "text": [
            "5 4 3 2 1 \n",
            "4 3 2 1 \n",
            "3 2 1 \n",
            "2 1 \n",
            "1 \n"
          ]
        }
      ],
      "source": [
        "#print the pattern\n",
        "# 5 4 3 2 1\n",
        "# 4 3 2 1\n",
        "# 3 2 1\n",
        "# 2 1\n",
        "# 1\n",
        "\n",
        "\n",
        "for i in range(5,0,-1):\n",
        "  for j in range(i,0,-1):\n",
        "    print(j,end = \" \")\n",
        "  print()"
      ]
    },
    {
      "cell_type": "code",
      "execution_count": null,
      "metadata": {
        "id": "2ye69ZD4HKNe",
        "colab": {
          "base_uri": "https://localhost:8080/"
        },
        "outputId": "6519b087-6afb-4bf5-9de2-75024ec21abf"
      },
      "outputs": [
        {
          "output_type": "stream",
          "name": "stdout",
          "text": [
            "* \n",
            "* * \n",
            "* * * \n",
            "* * * * \n",
            "* * * * * \n"
          ]
        }
      ],
      "source": [
        "#print the pattern\n",
        "# *\n",
        "# * *\n",
        "# * * *\n",
        "# * * * *\n",
        "# * * * * *\n",
        "\n",
        "for i in range(1,6):\n",
        "  for j in range(i):\n",
        "    print(\"*\",end = \" \")\n",
        "  print()"
      ]
    },
    {
      "cell_type": "code",
      "execution_count": null,
      "metadata": {
        "id": "1WujOU4lHgA-",
        "colab": {
          "base_uri": "https://localhost:8080/"
        },
        "outputId": "c81dcd73-5462-40be-a9de-0f0c1ca43c24"
      },
      "outputs": [
        {
          "output_type": "stream",
          "name": "stdout",
          "text": [
            "    1 \n",
            "   1 2 \n",
            "  1 2 3 \n",
            " 1 2 3 4 \n",
            "1 2 3 4 5 \n"
          ]
        }
      ],
      "source": [
        "# print the pattern\n",
        "#     1\n",
        "#    2 3\n",
        "#   1 2 3\n",
        "#  1 2 3 4\n",
        "# 1 2 3 4 5\n",
        "\n",
        "n = 5\n",
        "for i in range(1,n+1):\n",
        "  for j in range(n-i):\n",
        "    print( \"\",end=\" \")\n",
        "  for j in range(1,i+1):\n",
        "    print(j,end = \" \")\n",
        "  print()"
      ]
    },
    {
      "cell_type": "code",
      "execution_count": null,
      "metadata": {
        "id": "2qb8VLl1ICfQ",
        "colab": {
          "base_uri": "https://localhost:8080/"
        },
        "outputId": "233db079-668a-469a-f12d-c19aee213c48"
      },
      "outputs": [
        {
          "output_type": "stream",
          "name": "stdout",
          "text": [
            "BharathYadav\n"
          ]
        }
      ],
      "source": [
        "#\n",
        "s = \"Bharath\"\n",
        "s2 = s\n",
        "s += \"Yadav\"\n",
        "print(s)"
      ]
    },
    {
      "cell_type": "code",
      "source": [
        "#Display numbers from a list using loop\n",
        "#       The numbers must be divisible by 5\n",
        "#       If the number is greater than 150 , then skip it and move to the next number\n",
        "#       If the number is greater than 500, then stop the loop\n",
        "\n",
        "numbers=[10,20,30,20,300,2333,201]\n",
        "print(\"Original list\",numbers)\n",
        "for i in numbers:\n",
        "  if i %5 == 0:\n",
        "    print(i)\n",
        "  elif i >150:\n",
        "    continue\n",
        "  elif i >500:\n",
        "    break\n"
      ],
      "metadata": {
        "colab": {
          "base_uri": "https://localhost:8080/"
        },
        "id": "pEdXCcRywRjz",
        "outputId": "2f126d5a-a93b-46e6-afe6-14f537937b7c"
      },
      "execution_count": null,
      "outputs": [
        {
          "output_type": "stream",
          "name": "stdout",
          "text": [
            "Original list [10, 20, 30, 20, 300, 2333, 201]\n",
            "10\n",
            "20\n",
            "30\n",
            "20\n",
            "300\n"
          ]
        }
      ]
    },
    {
      "cell_type": "code",
      "source": [
        "#Count the total number of digits in a number\n",
        "num =int(input(\"Enter the Number : \"))\n",
        "count = 0\n",
        "while num !=0:\n",
        "  num = num//10\n",
        "  count +=1\n",
        "print(\"Total digits are : \",count)\n",
        "\n",
        "\n",
        "#Second method\n",
        "a = int(input(\"Enter the Number : \"))\n",
        "print(\"total digits are : \",len(str(a)))"
      ],
      "metadata": {
        "colab": {
          "base_uri": "https://localhost:8080/"
        },
        "id": "JVDwKS7ixZ3K",
        "outputId": "f6f7b869-9357-46c2-a66f-51b4b54783b6"
      },
      "execution_count": null,
      "outputs": [
        {
          "output_type": "stream",
          "name": "stdout",
          "text": [
            "Enter the Number : 4533434454354\n",
            "Total digits are :  13\n",
            "Enter the Number : 5454334545455\n",
            "total digits are :  13\n"
          ]
        }
      ]
    },
    {
      "cell_type": "code",
      "source": [
        "#write a program to display all prime numbers with in the range\n",
        "start = int(input(\"Enter a Number : \"))\n",
        "end  = int(input(\"Enter a Number : \"))\n",
        "print(f\"The Prime the Numbers are between the range of {start} and {end}\")\n",
        "for num in range(start,end+1):\n",
        "  if num > 1:\n",
        "    for i in range(2,num):\n",
        "      if (num %i) ==0:\n",
        "        break\n",
        "    else:\n",
        "      print(num)"
      ],
      "metadata": {
        "colab": {
          "base_uri": "https://localhost:8080/"
        },
        "id": "0k74Li3-xZ9V",
        "outputId": "4898278c-6539-41dd-ec7a-1a27c9c97e93"
      },
      "execution_count": null,
      "outputs": [
        {
          "output_type": "stream",
          "name": "stdout",
          "text": [
            "Enter a Number : 1\n",
            "Enter a Number : 50\n",
            "The Prime the Numbers are between the range of 1 and 50\n",
            "2\n",
            "3\n",
            "5\n",
            "7\n",
            "11\n",
            "13\n",
            "17\n",
            "19\n",
            "23\n",
            "29\n",
            "31\n",
            "37\n",
            "41\n",
            "43\n",
            "47\n"
          ]
        }
      ]
    },
    {
      "cell_type": "code",
      "source": [
        "#Calculate the cube of all numbers from 1 to a given Number\n",
        "input_num = int(input(\"Enter a Number : \"))\n",
        "for i in range(1,input_num+1):\n",
        "  print(f\"Current number is : {i} and the cube is {i*i*i}\")"
      ],
      "metadata": {
        "colab": {
          "base_uri": "https://localhost:8080/"
        },
        "id": "3godclr1zTRN",
        "outputId": "89fb512e-28f3-4c30-97c1-d78927ac6f55"
      },
      "execution_count": null,
      "outputs": [
        {
          "output_type": "stream",
          "name": "stdout",
          "text": [
            "Enter a Number : 4\n",
            "Current number is : 1 and the cube is 1\n",
            "Current number is : 2 and the cube is 8\n",
            "Current number is : 3 and the cube is 27\n",
            "Current number is : 4 and the cube is 64\n"
          ]
        }
      ]
    },
    {
      "cell_type": "code",
      "source": [
        "#Create a function with variable length of arguments\n",
        "def fun1(*a):\n",
        "  for i in a:\n",
        "    print(i)\n",
        "\n",
        "fun1(10,20,30,40)\n",
        "fun1(50,3,5,12,34,1)"
      ],
      "metadata": {
        "colab": {
          "base_uri": "https://localhost:8080/"
        },
        "id": "AMpfrxW5Ap5H",
        "outputId": "c71c3db4-0638-42ee-c3ee-f1b480d16793"
      },
      "execution_count": null,
      "outputs": [
        {
          "output_type": "stream",
          "name": "stdout",
          "text": [
            "10\n",
            "20\n",
            "30\n",
            "40\n",
            "50\n",
            "3\n",
            "5\n",
            "12\n",
            "34\n",
            "1\n"
          ]
        }
      ]
    },
    {
      "cell_type": "code",
      "source": [
        "#Return multiple values from a Function\n",
        "def calculation(a,b):\n",
        "  add = a+b\n",
        "  sub = a-b\n",
        "  return add,sub\n",
        "res = calculation(40,50)\n",
        "print(res)"
      ],
      "metadata": {
        "colab": {
          "base_uri": "https://localhost:8080/"
        },
        "id": "d3VoC4J1BYgL",
        "outputId": "4c0ff678-f592-4f96-8bd0-272669d20e06"
      },
      "execution_count": null,
      "outputs": [
        {
          "output_type": "stream",
          "name": "stdout",
          "text": [
            "(90, -10)\n"
          ]
        }
      ]
    },
    {
      "cell_type": "code",
      "source": [
        "#Create a function with a default arguments\n",
        "def employee(name,salary=25000):\n",
        "  print(f\"My Name is {name} and i had an Salary of {salary}\")\n",
        "employee(\"Kumar\",24000)\n",
        "employee(\"Bharath\")"
      ],
      "metadata": {
        "colab": {
          "base_uri": "https://localhost:8080/"
        },
        "id": "klYeYd6OBuck",
        "outputId": "14c0af05-4f81-4130-d361-23b433302854"
      },
      "execution_count": null,
      "outputs": [
        {
          "output_type": "stream",
          "name": "stdout",
          "text": [
            "My Name is Kumar and i had an Salary of 24000\n",
            "My Name is Bharath and i had an Salary of 25000\n"
          ]
        }
      ]
    },
    {
      "cell_type": "code",
      "source": [
        "def outer_fun(a,b):\n",
        "  def addition(a,b):\n",
        "    return a+b\n",
        "  add = addition(a,b)\n",
        "  return add+5\n",
        "res =outer_fun(10,5)\n",
        "print(res)"
      ],
      "metadata": {
        "colab": {
          "base_uri": "https://localhost:8080/"
        },
        "id": "m5sSCO9OCIk4",
        "outputId": "95c0c71c-a3eb-4b55-f9b0-b3df72b3cf87"
      },
      "execution_count": null,
      "outputs": [
        {
          "output_type": "stream",
          "name": "stdout",
          "text": [
            "20\n"
          ]
        }
      ]
    },
    {
      "cell_type": "code",
      "source": [
        "#Assign a different  name to function and call it through the new name\n",
        "def func1(name,age):\n",
        "  print(name,age)\n",
        "func1(\"Bharath\",27)\n",
        "new_name = func1\n",
        "new_name(\"Kumar\",27)\n",
        "new_name(\"Yadav\",28)"
      ],
      "metadata": {
        "colab": {
          "base_uri": "https://localhost:8080/"
        },
        "id": "AF3o3R5bC7Vm",
        "outputId": "516793fe-cff4-49ae-dc27-f86b3eeab590"
      },
      "execution_count": null,
      "outputs": [
        {
          "output_type": "stream",
          "name": "stdout",
          "text": [
            "Bharath 27\n",
            "Kumar 27\n",
            "Yadav 28\n"
          ]
        }
      ]
    },
    {
      "cell_type": "code",
      "source": [
        "#Find the largest value in the Given List\n",
        "def  find_largest_number(my_list):\n",
        "  largest_number = max(my_list)\n",
        "  return largest_number\n",
        "my_list =[10,22,33,44,22,33,444,222,44,555,5554]\n",
        "res = find_largest_number(my_list)\n",
        "print(f\"The largest number in the list : {res}\")"
      ],
      "metadata": {
        "colab": {
          "base_uri": "https://localhost:8080/"
        },
        "id": "vQjHzMRqDhmZ",
        "outputId": "e1565e81-f92e-4dba-9e2d-b9effe399fba"
      },
      "execution_count": null,
      "outputs": [
        {
          "output_type": "stream",
          "name": "stdout",
          "text": [
            "The largest number in the list : 5554\n"
          ]
        }
      ]
    },
    {
      "cell_type": "code",
      "source": [
        "#Display first letter's of your Name using Functions\n",
        "def get_first_letter(string):\n",
        "  words=string.split()\n",
        "  first_letter = [word[0] for word in words]\n",
        "  res_string = \"\".join(first_letter)\n",
        "  return res_string\n",
        "input_1 = input(\"Enter the Name : \")\n",
        "print(f\"The first letter of {input_1}\",get_first_letter(input_1))"
      ],
      "metadata": {
        "colab": {
          "base_uri": "https://localhost:8080/"
        },
        "id": "xJihPfZ5ERNj",
        "outputId": "79057b7a-8f68-4468-8dd6-e864d3238a7a"
      },
      "execution_count": null,
      "outputs": [
        {
          "output_type": "stream",
          "name": "stdout",
          "text": [
            "Enter the Name : Bharath Kumar\n",
            "The first letter of Bharath Kumar BK\n"
          ]
        }
      ]
    },
    {
      "cell_type": "code",
      "source": [
        "#Count all letters, digits and special symbols from a given string\n",
        "def find_digits(sample_str):\n",
        "    char_count = 0\n",
        "    digit_count = 0\n",
        "    symbols_count = 0\n",
        "    for char in sample_str:\n",
        "        if char.isalnum():\n",
        "            char_count += 1\n",
        "        elif char.isdigit():\n",
        "            digit_count += 1\n",
        "        else:\n",
        "            symbols_count += 1\n",
        "    print(\"Chars =\", char_count, \", digits =\", digit_count, \", symbols =\", symbols_count)\n",
        "\n",
        "# Test the function\n",
        "sample_str = \"Hello! 123 World\"\n",
        "find_digits(sample_str)"
      ],
      "metadata": {
        "colab": {
          "base_uri": "https://localhost:8080/"
        },
        "id": "sJNBqhRSFWEW",
        "outputId": "b393a7d3-2aaf-488c-8a1d-83fadfaacf8c"
      },
      "execution_count": null,
      "outputs": [
        {
          "output_type": "stream",
          "name": "stdout",
          "text": [
            "Chars = 13 , digits = 0 , symbols = 3\n"
          ]
        }
      ]
    },
    {
      "cell_type": "code",
      "source": [
        "#Write a program to count of all characters with in a string\n",
        "str1 =\"Hi Everyone welcome to KumarBharath524 youtube channel\"\n",
        "char_dict = dict()\n",
        "for char in str1:\n",
        "  count = str1.count(char)\n",
        "  char_dict[char] = count\n",
        "print(\"Result : \",char_dict)\n",
        "\n",
        "\n",
        "\n",
        "\n",
        "#second method\n",
        "from collections import Counter\n",
        "str1 = \"Apple\"\n",
        "char_dict = dict(Counter(str1))\n",
        "print(\"Result : \",char_dict)"
      ],
      "metadata": {
        "colab": {
          "base_uri": "https://localhost:8080/"
        },
        "id": "awYGhiX1HLX2",
        "outputId": "cd64cca8-c1a3-4395-b810-8bd034bb465b"
      },
      "execution_count": null,
      "outputs": [
        {
          "output_type": "stream",
          "name": "stdout",
          "text": [
            "Result :  {'H': 1, 'i': 1, ' ': 6, 'E': 1, 'v': 1, 'e': 6, 'r': 3, 'y': 2, 'o': 4, 'n': 3, 'w': 1, 'l': 2, 'c': 2, 'm': 2, 't': 3, 'K': 1, 'u': 3, 'a': 4, 'B': 1, 'h': 3, '5': 1, '2': 1, '4': 1, 'b': 1}\n",
            "Result :  {'A': 1, 'p': 2, 'l': 1, 'e': 1}\n"
          ]
        }
      ]
    },
    {
      "cell_type": "code",
      "source": [
        "#Reverse a given string\n",
        "str1 = \"KumarBharath\"\n",
        "print(\"Orginal String : \",str1)\n",
        "str1 = str1[::-1]\n",
        "print(\"Reversed String : \",str1)\n",
        "\n",
        "#Second method\n",
        "str1 = \"KumarBharath\"\n",
        "print(\"Orginal String : \",str1)\n",
        "str1 = \"\".join(reversed(str1))\n",
        "print(\"Reversed String : \",str1)\n",
        "\n"
      ],
      "metadata": {
        "colab": {
          "base_uri": "https://localhost:8080/"
        },
        "id": "kPeAEiyZIBok",
        "outputId": "90e7fbf6-42e4-4590-99a2-af54cc54d737"
      },
      "execution_count": null,
      "outputs": [
        {
          "output_type": "stream",
          "name": "stdout",
          "text": [
            "Orginal String :  KumarBharath\n",
            "Reversed String :  htarahBramuK\n",
            "Orginal String :  KumarBharath\n",
            "Reversed String :  htarahBramuK\n"
          ]
        }
      ]
    },
    {
      "cell_type": "code",
      "source": [
        "#Create a list by picking an odd-index items from the list and even index items from the second\n",
        "list1=[11,2,13,12,3,34,54,345,6]\n",
        "list2=[23,213,34,5,36,5,63,56,7]\n",
        "res = list()\n",
        "odd_ele = list1[1::2]\n",
        "print(\"Elements at odd-index from list one : \")\n",
        "print(odd_ele)\n",
        "even_ele = list2[0::2]\n",
        "print(\"Elememts at even-index from list two : \")\n",
        "print(even_ele)\n",
        "print(\"Final list \")\n",
        "res.extend(odd_ele)\n",
        "res.extend(even_ele)\n",
        "print(res)"
      ],
      "metadata": {
        "colab": {
          "base_uri": "https://localhost:8080/"
        },
        "id": "NvhgjaElJjce",
        "outputId": "46eac9db-8432-4986-de1b-0754c9d2a1b9"
      },
      "execution_count": null,
      "outputs": [
        {
          "output_type": "stream",
          "name": "stdout",
          "text": [
            "Elements at odd-index from list one : \n",
            "[2, 12, 34, 345]\n",
            "Elememts at even-index from list two : \n",
            "[23, 34, 36, 63, 7]\n",
            "Final list \n",
            "[2, 12, 34, 345, 23, 34, 36, 63, 7]\n"
          ]
        }
      ]
    },
    {
      "cell_type": "code",
      "source": [
        "#find the odd and even numbers from a list in python\n",
        "my_list = [12,334,23,4,234,5,54,533,522,52,43]\n",
        "odd_num =[]\n",
        "even_num = []\n",
        "for num in my_list:\n",
        "  if num %2 ==0:\n",
        "    even_num.append(num)\n",
        "  else:\n",
        "    odd_num.append(num)\n",
        "print(odd_num)\n",
        "print(even_num)"
      ],
      "metadata": {
        "colab": {
          "base_uri": "https://localhost:8080/"
        },
        "id": "OThZQlToJL_Y",
        "outputId": "ef8356a4-27c0-4ead-c00f-cb1115393534"
      },
      "execution_count": null,
      "outputs": [
        {
          "output_type": "stream",
          "name": "stdout",
          "text": [
            "[23, 5, 533, 43]\n",
            "[12, 334, 4, 234, 54, 522, 52]\n"
          ]
        }
      ]
    },
    {
      "cell_type": "code",
      "source": [
        "#Create a python set such that it shows the element from both lists in a pair\n",
        "first_list =[10,20,30,40]\n",
        "print(first_list)\n",
        "second_list =[50,60,70,80]\n",
        "print(second_list)\n",
        "res = zip(first_list,second_list)\n",
        "res_set = set(res)\n",
        "print(res_set)"
      ],
      "metadata": {
        "id": "8ZtnrOBmMJCM",
        "colab": {
          "base_uri": "https://localhost:8080/"
        },
        "outputId": "17a61aed-ca01-4575-8a01-6b334663ab5c"
      },
      "execution_count": null,
      "outputs": [
        {
          "output_type": "stream",
          "name": "stdout",
          "text": [
            "[10, 20, 30, 40]\n",
            "[50, 60, 70, 80]\n",
            "{(10, 50), (40, 80), (20, 60), (30, 70)}\n"
          ]
        }
      ]
    },
    {
      "cell_type": "code",
      "source": [
        "#find the intersection (common)  of the two sets and remove those elements from te first set\n",
        "\n",
        "first_set = {10, 20, 30, 40}\n",
        "second_set = {50, 60, 70, 80, 10}\n",
        "\n",
        "# Find the intersection of the two sets\n",
        "intersection_set = first_set.intersection(second_set)\n",
        "print(\"Intersection of the two sets:\", intersection_set)\n",
        "\n",
        "# Remove elements from the first set based on the intersection\n",
        "for item in intersection_set:\n",
        "    first_set.remove(item)\n",
        "\n",
        "print(\"After removing elements, first_set is:\", first_set)\n"
      ],
      "metadata": {
        "colab": {
          "base_uri": "https://localhost:8080/"
        },
        "id": "uoE21r3rl8oF",
        "outputId": "101108dd-e596-4d87-e69d-08c58cb83f7e"
      },
      "execution_count": null,
      "outputs": [
        {
          "output_type": "stream",
          "name": "stdout",
          "text": [
            "Intersection of the two sets: {10}\n",
            "After removing elements, first_set is: {40, 20, 30}\n"
          ]
        }
      ]
    },
    {
      "cell_type": "code",
      "source": [
        "#checks if one set is a subset or superset of another set.If found, delete all elements from that set\n",
        "\n",
        "first_set = {40,44,45}\n",
        "second_set ={49,45,44,40,33,21,32,22}\n",
        "#subset\n",
        "res_1=first_set.issubset(second_set)\n",
        "print(res_1)\n",
        "res_2 = second_set.issubset(first_set)\n",
        "print(res_2)\n",
        "#superset\n",
        "res_1=first_set.issuperset(second_set)\n",
        "print(res_1)\n",
        "res_2=second_set.issuperset(first_set)\n",
        "print(res_2)\n",
        "if first_set.issubset(second_set):\n",
        "  first_set.clear()\n",
        "if second_set.issubset(first_set):\n",
        "  second_set.clear()\n",
        "\n",
        "print(first_set)\n",
        "print(second_set)\n",
        "\n",
        "\n"
      ],
      "metadata": {
        "colab": {
          "base_uri": "https://localhost:8080/"
        },
        "id": "LLhjye7smsGv",
        "outputId": "553687c7-146d-4dc4-be9e-3c354dcd9ef1"
      },
      "execution_count": null,
      "outputs": [
        {
          "output_type": "stream",
          "name": "stdout",
          "text": [
            "True\n",
            "False\n",
            "False\n",
            "True\n",
            "set()\n",
            "{32, 33, 40, 44, 45, 49, 21, 22}\n"
          ]
        }
      ]
    },
    {
      "cell_type": "code",
      "source": [
        "#iterate a given list and check if a given element exists as a key's value in a dictionary.If not , delete it from the list.\n",
        "\n",
        "list_1=[10,20,30,40,50,0,30]\n",
        "dict_1={\"Kumar\":25,\"Bharath\":20,\"Ram\":50}\n",
        "roll_num = [item for item in list_1 if item in dict_1.values()]\n",
        "print(roll_num)\n",
        "\n",
        "list_2=list()\n",
        "for val in dict_1.values():\n",
        "  if val not in list_2:\n",
        "    list_2.append(val)\n",
        "print(list_2)"
      ],
      "metadata": {
        "colab": {
          "base_uri": "https://localhost:8080/"
        },
        "id": "7LRClJsvpQQM",
        "outputId": "da5a8548-b511-4ba6-be70-c9074e242f4b"
      },
      "execution_count": null,
      "outputs": [
        {
          "output_type": "stream",
          "name": "stdout",
          "text": [
            "[20, 50]\n",
            "[25, 20, 50]\n"
          ]
        }
      ]
    },
    {
      "cell_type": "code",
      "source": [
        "#turn every item of a list into its square\n",
        "numbers=[2,3,4,5,6,7]\n",
        "list_1=[]\n",
        "for i in numbers:\n",
        "  list_1.append(i*i)\n",
        "print(list_1)\n",
        "#second method\n",
        "numbers=[2,3,4,5,6,7]\n",
        "res=[i*i for i in numbers]\n",
        "print(res)"
      ],
      "metadata": {
        "id": "jz1S8Wveo4d-",
        "colab": {
          "base_uri": "https://localhost:8080/"
        },
        "outputId": "96f46265-0315-4de5-cd15-d9af44be0053"
      },
      "execution_count": null,
      "outputs": [
        {
          "output_type": "stream",
          "name": "stdout",
          "text": [
            "[4, 9, 16, 25, 36, 49]\n",
            "[4, 9, 16, 25, 36, 49]\n"
          ]
        }
      ]
    },
    {
      "cell_type": "code",
      "source": [
        "#concatenate the two lists index-wise\n",
        "list_1=[10,20,30,40]\n",
        "list_2=[50,60,70,80]\n",
        "list_3=[]\n",
        "for i in range(len(list_1)):\n",
        "  list_3.append(list_1[i]+list_2[i])\n",
        "print(list_3)\n",
        "\n",
        "#second method\n",
        "list_1=[10,20,30,40]\n",
        "list_2=[50,60,70,80]\n",
        "list_3=[list_1[i]+list_2[i] for i in range(len(list_1))]\n",
        "print(list_3)\n",
        "\n"
      ],
      "metadata": {
        "colab": {
          "base_uri": "https://localhost:8080/"
        },
        "id": "0jNRqDJ09fHk",
        "outputId": "b972e700-304d-4c50-a9e1-b9d2faf4ce93"
      },
      "execution_count": null,
      "outputs": [
        {
          "output_type": "stream",
          "name": "stdout",
          "text": [
            "[60, 80, 100, 120]\n",
            "[60, 80, 100, 120]\n"
          ]
        }
      ]
    },
    {
      "cell_type": "code",
      "source": [
        "#convert two lists into a dictionary\n",
        "keys=[\"Ten\",\"Twenty\",\"Thiry\"]\n",
        "values=[10,20,30]\n",
        "sample_dict=dict()\n",
        "for i in range(len(keys)):\n",
        "  sample_dict.update({keys[i]:values[i]})\n",
        "print(sample_dict)\n",
        "#second type\n",
        "keys=[\"Ten\",\"Twenty\",\"Thiry\"]\n",
        "values=[10,20,30]\n",
        "sample_dict=dict(zip(keys,values))\n",
        "print(sample_dict)"
      ],
      "metadata": {
        "id": "g-iDqs4K_1MO",
        "colab": {
          "base_uri": "https://localhost:8080/"
        },
        "outputId": "1a33d508-2ceb-4ece-e26f-7b7aab3804d9"
      },
      "execution_count": null,
      "outputs": [
        {
          "output_type": "stream",
          "name": "stdout",
          "text": [
            "{'Ten': 10, 'Twenty': 20, 'Thiry': 30}\n",
            "{'Ten': 10, 'Twenty': 20, 'Thiry': 30}\n"
          ]
        }
      ]
    },
    {
      "cell_type": "code",
      "source": [
        "#merge two dictionaries\n",
        "dict_1={\"Ten\":10,\"Twenty\":20,\"Thiry\":30}\n",
        "dict_2={10:\"Ten\",20:\"Twenty\",30:\"Thirty\"}\n",
        "dict_3={**dict_1,**dict_2}\n",
        "print(dict_3)\n",
        "\n",
        "#second method\n",
        "dict_1={\"Ten\":10,\"Twenty\":20,\"Thiry\":30}\n",
        "dict_2={10:\"Ten\",20:\"Twenty\",30:\"Thirty\"}\n",
        "dict_3=dict_1.copy()\n",
        "dict_3.update(dict_2)\n",
        "print(dict_3)"
      ],
      "metadata": {
        "colab": {
          "base_uri": "https://localhost:8080/"
        },
        "id": "dyGCgXK-2O8C",
        "outputId": "7d0511cf-590d-456a-81aa-658dc04b9e8b"
      },
      "execution_count": null,
      "outputs": [
        {
          "output_type": "stream",
          "name": "stdout",
          "text": [
            "{'Ten': 10, 'Twenty': 20, 'Thiry': 30, 10: 'Ten', 20: 'Twenty', 30: 'Thirty'}\n",
            "{'Ten': 10, 'Twenty': 20, 'Thiry': 30, 10: 'Ten', 20: 'Twenty', 30: 'Thirty'}\n"
          ]
        }
      ]
    },
    {
      "cell_type": "code",
      "source": [
        "#Create a dictionary by extracting the keys from a given dictionary\n",
        "sample_dict={\n",
        "    \"Name\":\"Bharath Yadav\",\n",
        "    \"Age\" : 21,\n",
        "    \"Role\":\"Python Developer\"\n",
        "}\n",
        "for i in sample_dict.keys():\n",
        "  print(i)"
      ],
      "metadata": {
        "colab": {
          "base_uri": "https://localhost:8080/"
        },
        "id": "aiiYgGQC3Wrw",
        "outputId": "12c45592-2532-43c7-b2cb-9bd97f1ea564"
      },
      "execution_count": null,
      "outputs": [
        {
          "output_type": "stream",
          "name": "stdout",
          "text": [
            "Name\n",
            "Age\n",
            "Role\n"
          ]
        }
      ]
    },
    {
      "cell_type": "code",
      "source": [
        "#Create a dictionary by extracting the values from a given dictionary\n",
        "sample_dict={\n",
        "    \"Name\":\"Bharath Yadav\",\n",
        "    \"Age\" : 21,\n",
        "    \"Role\":\"Python Developer\"\n",
        "}\n",
        "for i in sample_dict.values():\n",
        "  print(i)"
      ],
      "metadata": {
        "colab": {
          "base_uri": "https://localhost:8080/"
        },
        "id": "DYw6lID-36sx",
        "outputId": "cd52a423-6ed9-4f74-fa01-8468c8c79cd0"
      },
      "execution_count": null,
      "outputs": [
        {
          "output_type": "stream",
          "name": "stdout",
          "text": [
            "Bharath Yadav\n",
            "21\n",
            "Python Developer\n"
          ]
        }
      ]
    },
    {
      "cell_type": "code",
      "source": [
        "#given a list of dictionariees and prnt out the 'name' and 'age' and 'salary'\n",
        "employees = [\n",
        "    {\"Name\": \"Bharath\", \"Age\": 25, \"Salary\": 30000, \"City\": \"Hyd\"},\n",
        "    {\"Name\": \"Ravi\", \"Age\": 25, \"Salary\": 90000, \"City\": \"Bangalore\"},\n",
        "    {\"Name\": \"Adharsh\", \"Age\": 25, \"Salary\": 60000, \"City\": \"Ananthapuram\"}\n",
        "]\n",
        "\n",
        "for employee in employees:\n",
        "    name = employee[\"Name\"]\n",
        "    salary = employee[\"Salary\"]\n",
        "    age = employee[\"Age\"]\n",
        "    print(f\"Name: {name}, Age: {age}, Salary: {salary}\")\n"
      ],
      "metadata": {
        "colab": {
          "base_uri": "https://localhost:8080/"
        },
        "id": "f06AKrSz4JxS",
        "outputId": "53686738-9ceb-4b68-c29b-76b49b4bdca4"
      },
      "execution_count": null,
      "outputs": [
        {
          "output_type": "stream",
          "name": "stdout",
          "text": [
            "Name: Bharath, Age: 25, Salary: 30000\n",
            "Name: Ravi, Age: 25, Salary: 90000\n",
            "Name: Adharsh, Age: 25, Salary: 60000\n"
          ]
        }
      ]
    },
    {
      "cell_type": "code",
      "source": [
        "#get the key of a minimum value from the dictionary\n",
        "sample_dict={\n",
        "    \"Maths\":90,\n",
        "    \"Social\":98,\n",
        "    \"Science\":89\n",
        "}\n",
        "print(min(sample_dict,key=sample_dict.get))"
      ],
      "metadata": {
        "colab": {
          "base_uri": "https://localhost:8080/"
        },
        "id": "JPBmnvDV5O18",
        "outputId": "66d6b670-0b71-4115-9921-6cf816f79e8f"
      },
      "execution_count": null,
      "outputs": [
        {
          "output_type": "stream",
          "name": "stdout",
          "text": [
            "Science\n"
          ]
        }
      ]
    },
    {
      "cell_type": "code",
      "source": [
        "#get the key and value of a minimum value from the dictionary\n",
        "sample_dict={\n",
        "    \"Maths\":90,\n",
        "    \"Social\":98,\n",
        "    \"Science\":89\n",
        "}\n",
        "\n",
        "min_value=min(sample_dict.values())\n",
        "for key,value in sample_dict.items():\n",
        "  if value == min_value:\n",
        "    min_key = key\n",
        "    break\n",
        "print(f\"The key '{min_key}' has the minimum value of {min_value}\")"
      ],
      "metadata": {
        "colab": {
          "base_uri": "https://localhost:8080/"
        },
        "id": "VEFb3A4i5n_V",
        "outputId": "8eeb3198-2acd-467d-d557-04f5d715ef06"
      },
      "execution_count": null,
      "outputs": [
        {
          "output_type": "stream",
          "name": "stdout",
          "text": [
            "The key 'Science' has the minimum value of 89\n"
          ]
        }
      ]
    },
    {
      "cell_type": "code",
      "source": [
        "#write a python program to check if a dictionary is empty or not\n",
        "sample_dict=dict()\n",
        "if bool(sample_dict):\n",
        "  print(\"Dict is not Empty :\")\n",
        "else:\n",
        "  print(\"Dict is Empty\")\n",
        "\n",
        "sample_dict={\"Name\":\"Bharath Yadav\"}\n",
        "if bool(sample_dict):\n",
        "  print(\"Dict is not Empty \")\n",
        "else:\n",
        "  print(\"Dict is Empty \")"
      ],
      "metadata": {
        "colab": {
          "base_uri": "https://localhost:8080/"
        },
        "id": "DRxcDpro6KH3",
        "outputId": "def11b8e-1dbe-42e7-ace5-6e0392c8995e"
      },
      "execution_count": null,
      "outputs": [
        {
          "output_type": "stream",
          "name": "stdout",
          "text": [
            "Dict is Empty\n",
            "Dict is not Empty :\n"
          ]
        }
      ]
    },
    {
      "cell_type": "code",
      "source": [
        "#combine two dictionary adding values fro common keys\n",
        "from collections import Counter\n",
        "d1={\"a\":100,\"b\":200,\"c\":300}\n",
        "d2={\"a\":200,\"b\":300,\"c\":400}\n",
        "d=Counter(d1)+Counter(d2)\n",
        "print(d)"
      ],
      "metadata": {
        "colab": {
          "base_uri": "https://localhost:8080/"
        },
        "id": "an2pEDck6qTj",
        "outputId": "51a91066-d9b5-44ba-d2a5-dce4850cdfa6"
      },
      "execution_count": null,
      "outputs": [
        {
          "output_type": "stream",
          "name": "stdout",
          "text": [
            "Counter({'c': 700, 'b': 500, 'a': 300})\n"
          ]
        }
      ]
    },
    {
      "cell_type": "code",
      "source": [
        "#Generate 3 random integers between 100 and 999 whcih are divisible by 5\n",
        "import random\n",
        "for num in range(3):\n",
        "  print(random.randrange(100,999,5),end=\" ,\")\n"
      ],
      "metadata": {
        "colab": {
          "base_uri": "https://localhost:8080/"
        },
        "id": "VSef51Rs7Gua",
        "outputId": "b212aad0-a0fd-41b7-d4da-ba0521250ac5"
      },
      "execution_count": null,
      "outputs": [
        {
          "output_type": "stream",
          "name": "stdout",
          "text": [
            "935 ,295 ,630 ,"
          ]
        }
      ]
    },
    {
      "cell_type": "code",
      "source": [
        "#Random lottery pick. Generate 100 random lottery tickets and pick two lucky tickets from it as a winner.\n",
        "import random\n",
        "\n",
        "lottery_tickets = []\n",
        "for _ in range(100):\n",
        "    lottery_tickets.append(random.randrange(100000000, 999999999))\n",
        "\n",
        "winners = random.sample(lottery_tickets, 2)\n",
        "print(\"Lucky winners:\", winners)\n"
      ],
      "metadata": {
        "colab": {
          "base_uri": "https://localhost:8080/"
        },
        "id": "zgnRgViO7k1k",
        "outputId": "541b8456-fe18-48dd-c3d5-91b0291d3a19"
      },
      "execution_count": null,
      "outputs": [
        {
          "output_type": "stream",
          "name": "stdout",
          "text": [
            "Lucky winners: [752737836, 513440883]\n"
          ]
        }
      ]
    },
    {
      "cell_type": "code",
      "source": [
        "#Generate 6 digit random secure OTP\n",
        "import secrets\n",
        "\n",
        "otp = secrets.randbelow(999999 - 100000) + 100000\n",
        "print(f\"Secure random OTP is : {otp}\")\n"
      ],
      "metadata": {
        "colab": {
          "base_uri": "https://localhost:8080/"
        },
        "id": "HfWR5S6G8LsD",
        "outputId": "08ed3cf6-4d63-4ecc-bbf8-52bb5be9a974"
      },
      "execution_count": null,
      "outputs": [
        {
          "output_type": "stream",
          "name": "stdout",
          "text": [
            "Secure random OTP is : 893081\n"
          ]
        }
      ]
    },
    {
      "cell_type": "code",
      "source": [
        "#calculate multiplication of two random float numbers\n",
        "\n",
        "import random\n",
        "num1=random.random()\n",
        "print(num1)\n",
        "num2=random.uniform(9.5,99.5)\n",
        "num3=num1*num2\n",
        "print(num3)"
      ],
      "metadata": {
        "colab": {
          "base_uri": "https://localhost:8080/"
        },
        "id": "RGNib2p_8xC7",
        "outputId": "b647ebcc-e403-4028-bb5a-fbf175fbf94b"
      },
      "execution_count": null,
      "outputs": [
        {
          "output_type": "stream",
          "name": "stdout",
          "text": [
            "0.08965935554565774\n",
            "1.968817607724946\n"
          ]
        }
      ]
    },
    {
      "cell_type": "code",
      "source": [
        "n =int(input(\"enter a number \"))\n",
        "es=[i for i in range(1,n+1) if i%2 != 1]\n",
        "print(es)\n"
      ],
      "metadata": {
        "id": "yBWC0Un99Hyw",
        "colab": {
          "base_uri": "https://localhost:8080/"
        },
        "outputId": "34212d39-b8a6-442d-f34f-f5a9fcb69e7a"
      },
      "execution_count": null,
      "outputs": [
        {
          "output_type": "stream",
          "name": "stdout",
          "text": [
            "enter a number 100\n",
            "[2, 4, 6, 8, 10, 12, 14, 16, 18, 20, 22, 24, 26, 28, 30, 32, 34, 36, 38, 40, 42, 44, 46, 48, 50, 52, 54, 56, 58, 60, 62, 64, 66, 68, 70, 72, 74, 76, 78, 80, 82, 84, 86, 88, 90, 92, 94, 96, 98, 100]\n"
          ]
        }
      ]
    },
    {
      "cell_type": "code",
      "source": [
        "s=[1,2,3,4,5,6,7,3,1,2,4,35,6,1]\n",
        "change=set(s)\n",
        "print(type(change))\n",
        "change_2=list(change)\n",
        "print(change_2)\n",
        "print(type(change_2))"
      ],
      "metadata": {
        "colab": {
          "base_uri": "https://localhost:8080/"
        },
        "id": "2rcWl1UBkwWZ",
        "outputId": "c2697c57-0aaa-4ed8-952b-023f8d6618ed"
      },
      "execution_count": null,
      "outputs": [
        {
          "output_type": "stream",
          "name": "stdout",
          "text": [
            "<class 'set'>\n",
            "[1, 2, 3, 4, 5, 6, 7, 35]\n",
            "<class 'list'>\n"
          ]
        }
      ]
    },
    {
      "cell_type": "code",
      "source": [
        "s = [1, 2, 3, 4, 5, 6, 7, 3, 1, 2, 4, 35, 6, 1]\n",
        "\n",
        "for i in range(len(s)):\n",
        "    if s[i] != s[i-1]:\n",
        "        print(i)\n",
        "    else:\n",
        "        break\n"
      ],
      "metadata": {
        "id": "bX3oQAjulElz"
      },
      "execution_count": null,
      "outputs": []
    },
    {
      "cell_type": "code",
      "source": [
        "list_1=['a','b','c','d','e']\n",
        "print(list_1[10:])"
      ],
      "metadata": {
        "colab": {
          "base_uri": "https://localhost:8080/"
        },
        "id": "DiR5p5e_579A",
        "outputId": "829f6c15-b3b1-4573-eab7-d10fd116d4f8"
      },
      "execution_count": null,
      "outputs": [
        {
          "output_type": "stream",
          "name": "stdout",
          "text": [
            "[]\n"
          ]
        }
      ]
    }
  ],
  "metadata": {
    "colab": {
      "provenance": [],
      "authorship_tag": "ABX9TyMNFd27AmDBb+iO5Ocjlbl0",
      "include_colab_link": true
    },
    "kernelspec": {
      "display_name": "Python 3",
      "name": "python3"
    },
    "language_info": {
      "name": "python"
    }
  },
  "nbformat": 4,
  "nbformat_minor": 0
}